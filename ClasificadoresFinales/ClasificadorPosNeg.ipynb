{
 "cells": [
  {
   "cell_type": "code",
   "execution_count": 1,
   "metadata": {},
   "outputs": [
    {
     "data": {
      "text/html": [
       "<div>\n",
       "<table border=\"1\" class=\"dataframe\">\n",
       "  <thead>\n",
       "    <tr style=\"text-align: right;\">\n",
       "      <th></th>\n",
       "      <th>Tweet</th>\n",
       "      <th>Info</th>\n",
       "    </tr>\n",
       "  </thead>\n",
       "  <tbody>\n",
       "    <tr>\n",
       "      <th>0</th>\n",
       "      <td>NO ESTOY PSICOLOGICAMENTE PREPARADO PARA QUE E...</td>\n",
       "      <td>Negativo</td>\n",
       "    </tr>\n",
       "    <tr>\n",
       "      <th>1</th>\n",
       "      <td>@peperezp @sport MESSI tira del carro del Barç...</td>\n",
       "      <td>Positivo</td>\n",
       "    </tr>\n",
       "    <tr>\n",
       "      <th>2</th>\n",
       "      <td>El Barça fue a por Verratti y a por di Maria. ...</td>\n",
       "      <td>Positivo</td>\n",
       "    </tr>\n",
       "    <tr>\n",
       "      <th>3</th>\n",
       "      <td>Esto del fútbol es así, te suben y bajan a la ...</td>\n",
       "      <td>Negativo</td>\n",
       "    </tr>\n",
       "    <tr>\n",
       "      <th>4</th>\n",
       "      <td>@saracsanchezp @victoramaya @infocracia Totalm...</td>\n",
       "      <td>Negativo</td>\n",
       "    </tr>\n",
       "  </tbody>\n",
       "</table>\n",
       "</div>"
      ],
      "text/plain": [
       "                                               Tweet      Info\n",
       "0  NO ESTOY PSICOLOGICAMENTE PREPARADO PARA QUE E...  Negativo\n",
       "1  @peperezp @sport MESSI tira del carro del Barç...  Positivo\n",
       "2  El Barça fue a por Verratti y a por di Maria. ...  Positivo\n",
       "3  Esto del fútbol es así, te suben y bajan a la ...  Negativo\n",
       "4  @saracsanchezp @victoramaya @infocracia Totalm...  Negativo"
      ]
     },
     "execution_count": 1,
     "metadata": {},
     "output_type": "execute_result"
    }
   ],
   "source": [
    "import pandas as pd\n",
    "\n",
    "# The files are coded in ISO-8859-1\n",
    "\n",
    "df = pd.read_csv(\"data/positivo-negativo.csv\")\n",
    "df[0:5]"
   ]
  },
  {
   "cell_type": "code",
   "execution_count": 2,
   "metadata": {},
   "outputs": [
    {
     "data": {
      "text/plain": [
       "(234, 2)"
      ]
     },
     "execution_count": 2,
     "metadata": {},
     "output_type": "execute_result"
    }
   ],
   "source": [
    "df.shape"
   ]
  },
  {
   "cell_type": "code",
   "execution_count": 3,
   "metadata": {},
   "outputs": [],
   "source": [
    "# Define X and Y\n",
    "X = df['Tweet'].values.astype(str)\n",
    "y = df['Info'].values.astype(str)"
   ]
  },
  {
   "cell_type": "code",
   "execution_count": 4,
   "metadata": {},
   "outputs": [],
   "source": [
    "# Transformer 1\n",
    "\n",
    "\n",
    "# Sample of statistics using nltk\n",
    "# Another option is defining a function and pass it as a parameter to FunctionTransformer\n",
    "\n",
    "from sklearn.base import BaseEstimator, TransformerMixin\n",
    "from nltk.tokenize import sent_tokenize, word_tokenize\n",
    "\n",
    "class LexicalStats (BaseEstimator, TransformerMixin):\n",
    "    \"\"\"Extract lexical features from each document\"\"\"\n",
    "    \n",
    "    def number_sentences(self, doc):\n",
    "        sentences = sent_tokenize(doc, language='spanish')\n",
    "        return len(sentences)\n",
    "\n",
    "    def fit(self, x, y=None):\n",
    "        return self\n",
    "\n",
    "    def transform(self, docs):\n",
    "        return [{'length': len(doc),\n",
    "                 'num_sentences': self.number_sentences(doc)}\n",
    "                for doc in docs]"
   ]
  },
  {
   "cell_type": "code",
   "execution_count": 6,
   "metadata": {},
   "outputs": [],
   "source": [
    "from sklearn.base import BaseEstimator, TransformerMixin\n",
    "from nltk.stem import PorterStemmer\n",
    "from nltk import word_tokenize\n",
    "from nltk.corpus import stopwords\n",
    "import string\n",
    "\n",
    "spanish_stopwords = stopwords.words('spanish')\n",
    "\n",
    "def custom_tokenizer(words):\n",
    "    \n",
    "    \n",
    "    \"\"\"Preprocessing tokens as seen in the lexical notebook\"\"\"\n",
    "    tokens = word_tokenize(words.lower())\n",
    "    porter = PorterStemmer()\n",
    "    lemmas = [porter.stem(t) for t in tokens]\n",
    "    stoplist = spanish_stopwords\n",
    "    lemmas_clean = [w for w in lemmas if w not in stoplist]\n",
    "    punctuation = set(string.punctuation)\n",
    "    lemmas_punct = [w for w in lemmas_clean if  w not in punctuation]\n",
    "\n",
    "    \n",
    "    return lemmas_punct\n"
   ]
  },
  {
   "cell_type": "code",
   "execution_count": 7,
   "metadata": {},
   "outputs": [],
   "source": [
    "from simM import SimMatrix\n",
    "from gensim.models import KeyedVectors\n",
    "from sklearn.pipeline import Pipeline\n",
    "from sklearn.preprocessing import MinMaxScaler\n",
    "from sklearn import feature_selection\n",
    "from sklearn.base import BaseEstimator, TransformerMixin\n",
    "from gsitk.preprocess import normalize\n",
    "import numpy as np\n",
    "import pandas as pd\n",
    "\n",
    "class Transformador (BaseEstimator, TransformerMixin):\n",
    "    def fit (self, x, y=None):\n",
    "        return self\n",
    "    def transform(self, X):\n",
    "        array = []\n",
    "        for i in range(0,len(X)):\n",
    "            array.append(normalize.preprocess(X[i]))\n",
    "        return np.array(array)"
   ]
  },
  {
   "cell_type": "code",
   "execution_count": 8,
   "metadata": {},
   "outputs": [],
   "source": [
    "embeddings = KeyedVectors.load_word2vec_format('./SBW-vectors-300-min5.txt')"
   ]
  },
  {
   "cell_type": "code",
   "execution_count": 9,
   "metadata": {},
   "outputs": [],
   "source": [
    "lexicon = pd.read_csv('ElhPolar_esV1.lex.txt', sep='\\t', header=None, names=['word', 'sentiment'])\n",
    "positive = lexicon[lexicon['sentiment']=='positive']['word'].values\n",
    "negative = lexicon[lexicon['sentiment']=='negative']['word'].values\n",
    "lexicon_words = [positive,negative]"
   ]
  },
  {
   "cell_type": "code",
   "execution_count": 10,
   "metadata": {},
   "outputs": [
    {
     "name": "stderr",
     "output_type": "stream",
     "text": [
      "/opt/conda/lib/python3.6/site-packages/sklearn/cross_validation.py:44: DeprecationWarning: This module was deprecated in version 0.18 in favor of the model_selection module into which all the refactored classes and functions are moved. Also note that the interface of the new CV iterators are different from that of this module. This module will be removed in 0.20.\n",
      "  \"This module will be removed in 0.20.\", DeprecationWarning)\n"
     ]
    },
    {
     "name": "stdout",
     "output_type": "stream",
     "text": [
      "Scores in every iteration [ 0.57446809  0.82978723  0.76595745  0.72340426  0.73913043]\n",
      "Accuracy: 0.73 (+/- 0.17)\n"
     ]
    }
   ],
   "source": [
    "from sklearn.pipeline import Pipeline, FeatureUnion\n",
    "from sklearn.feature_extraction.text import CountVectorizer, TfidfVectorizer, TfidfTransformer\n",
    "\n",
    "\n",
    "ngrams_featurizer = Pipeline([\n",
    "  ('count_vectorizer',  CountVectorizer(analyzer=\"word\", max_df=0.5, ngram_range=[1,2])),\n",
    "  ('tfidf_transformer', TfidfTransformer())\n",
    "])\n",
    "\n",
    "\n",
    "from sklearn.naive_bayes import MultinomialNB\n",
    "from sklearn.cross_validation import cross_val_score, KFold\n",
    "from sklearn.metrics import classification_report\n",
    "from sklearn.feature_extraction import DictVectorizer\n",
    "from sklearn.preprocessing import FunctionTransformer\n",
    "from sklearn.decomposition import NMF, LatentDirichletAllocation\n",
    "\n",
    "\n",
    "\n",
    "\n",
    "from sklearn.svm import SVC\n",
    "from sklearn.ensemble import AdaBoostClassifier #For Classification\n",
    "from sklearn.neighbors import KNeighborsClassifier\n",
    "\n",
    "## All the steps of the Pipeline should end with a sparse vector as the input data\n",
    "\n",
    "pipeline = Pipeline([\n",
    "       ('features', FeatureUnion([\n",
    "                    ('words', TfidfVectorizer(tokenizer=custom_tokenizer)),\n",
    "\n",
    "                    ('ngrams', ngrams_featurizer),\n",
    "\n",
    "                    ('lexical_stats', Pipeline([\n",
    "                                        ('stats', LexicalStats()),\n",
    "                                        ('vectors', DictVectorizer())\n",
    "                                    ])),\n",
    "\n",
    "                    ('emb', Pipeline([\n",
    "                            ('preprocess', Transformador()),\n",
    "                            ('simM', SimMatrix(lexicon_words, embedding=embeddings,\n",
    "                                               remove_stopwords=False, pooling=np.max,\n",
    "                                               weighting=False, n_lexicon_words=100,\n",
    "                                               lex_values=None)),\n",
    "                            ('scale', MinMaxScaler(feature_range=(0,2))),\n",
    "                            ('percent', feature_selection.SelectPercentile(feature_selection.f_classif, percentile=25)),\n",
    "                        ]))\n",
    "           \n",
    "        ])),\n",
    "            \n",
    "       \n",
    "                #('clf', MultinomialNB(alpha=.01))  # classifier\n",
    "            ('clf', SVC(C=10, gamma= 1, kernel='linear', probability=True))\n",
    "        #('clf', AdaBoostClassifier(n_estimators=50, base_estimator=MultinomialNB(alpha=.01), learning_rate=1))\n",
    "        #('modelknn', KNeighborsClassifier(n_neighbors = 20))\n",
    "    ])\n",
    "#SVC, KNeighborsClassifier, AdaBoostClassifier, MultinomialNB\n",
    "# Using KFold validation\n",
    "\n",
    "cv = KFold(X.shape[0], 5, shuffle=True, random_state=33)\n",
    "scores = cross_val_score(pipeline, X, y, cv=cv)\n",
    "print(\"Scores in every iteration\", scores)\n",
    "print(\"Accuracy: %0.2f (+/- %0.2f)\" % (scores.mean(), scores.std() * 2))"
   ]
  }
 ],
 "metadata": {
  "kernelspec": {
   "display_name": "Python 3",
   "language": "python",
   "name": "python3"
  },
  "language_info": {
   "codemirror_mode": {
    "name": "ipython",
    "version": 3
   },
   "file_extension": ".py",
   "mimetype": "text/x-python",
   "name": "python",
   "nbconvert_exporter": "python",
   "pygments_lexer": "ipython3",
   "version": "3.6.3"
  }
 },
 "nbformat": 4,
 "nbformat_minor": 2
}
