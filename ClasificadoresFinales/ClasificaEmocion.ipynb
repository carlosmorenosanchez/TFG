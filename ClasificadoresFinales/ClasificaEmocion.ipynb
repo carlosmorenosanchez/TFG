{
 "cells": [
  {
   "cell_type": "code",
   "execution_count": 2,
   "metadata": {},
   "outputs": [],
   "source": [
    "%matplotlib inline"
   ]
  },
  {
   "cell_type": "code",
   "execution_count": 5,
   "metadata": {},
   "outputs": [
    {
     "data": {
      "text/html": [
       "<div>\n",
       "<table border=\"1\" class=\"dataframe\">\n",
       "  <thead>\n",
       "    <tr style=\"text-align: right;\">\n",
       "      <th></th>\n",
       "      <th>Tweet</th>\n",
       "      <th>Info</th>\n",
       "      <th>Info2</th>\n",
       "    </tr>\n",
       "  </thead>\n",
       "  <tbody>\n",
       "    <tr>\n",
       "      <th>0</th>\n",
       "      <td>@AS_Manolete Y con el atleti podemos soñar otr...</td>\n",
       "      <td>Emocion</td>\n",
       "      <td>Cólera</td>\n",
       "    </tr>\n",
       "    <tr>\n",
       "      <th>1</th>\n",
       "      <td>Jugando asi es imposible que ganemos un partido…</td>\n",
       "      <td>Emocion</td>\n",
       "      <td>Tristeza</td>\n",
       "    </tr>\n",
       "    <tr>\n",
       "      <th>2</th>\n",
       "      <td>@eSports_Barca @MNDZPAU1 Md</td>\n",
       "      <td>NoEmocion</td>\n",
       "      <td>NoEmocion</td>\n",
       "    </tr>\n",
       "    <tr>\n",
       "      <th>3</th>\n",
       "      <td>Ahhhh claro que es del Atleti https://t.co/xm4...</td>\n",
       "      <td>NoEmocion</td>\n",
       "      <td>NoEmocion</td>\n",
       "    </tr>\n",
       "    <tr>\n",
       "      <th>4</th>\n",
       "      <td>Que venga Arthur me tiene más emocionado que c...</td>\n",
       "      <td>Emocion</td>\n",
       "      <td>Felicidad</td>\n",
       "    </tr>\n",
       "  </tbody>\n",
       "</table>\n",
       "</div>"
      ],
      "text/plain": [
       "                                               Tweet       Info      Info2\n",
       "0  @AS_Manolete Y con el atleti podemos soñar otr...    Emocion     Cólera\n",
       "1   Jugando asi es imposible que ganemos un partido…    Emocion   Tristeza\n",
       "2                        @eSports_Barca @MNDZPAU1 Md  NoEmocion  NoEmocion\n",
       "3  Ahhhh claro que es del Atleti https://t.co/xm4...  NoEmocion  NoEmocion\n",
       "4  Que venga Arthur me tiene más emocionado que c...    Emocion  Felicidad"
      ]
     },
     "execution_count": 5,
     "metadata": {},
     "output_type": "execute_result"
    }
   ],
   "source": [
    "import pandas as pd\n",
    "\n",
    "# The files are coded in ISO-8859-1\n",
    "\n",
    "df = pd.read_csv(\"data/Emocion-No.csv\")\n",
    "df[:5]"
   ]
  },
  {
   "cell_type": "code",
   "execution_count": 6,
   "metadata": {},
   "outputs": [
    {
     "data": {
      "text/plain": [
       "(763, 3)"
      ]
     },
     "execution_count": 6,
     "metadata": {},
     "output_type": "execute_result"
    }
   ],
   "source": [
    "df.shape"
   ]
  },
  {
   "cell_type": "code",
   "execution_count": 7,
   "metadata": {},
   "outputs": [],
   "source": [
    "# Define X and Y\n",
    "X = df['Tweet'].values.astype(str)\n",
    "y = df['Info'].values.astype(str)"
   ]
  },
  {
   "cell_type": "code",
   "execution_count": 8,
   "metadata": {},
   "outputs": [],
   "source": [
    "# Transformer 1\n",
    "\n",
    "\n",
    "# Sample of statistics using nltk\n",
    "# Another option is defining a function and pass it as a parameter to FunctionTransformer\n",
    "\n",
    "from sklearn.base import BaseEstimator, TransformerMixin\n",
    "from nltk.tokenize import sent_tokenize, word_tokenize\n",
    "\n",
    "class LexicalStats (BaseEstimator, TransformerMixin):\n",
    "    \"\"\"Extract lexical features from each document\"\"\"\n",
    "    \n",
    "    def number_sentences(self, doc):\n",
    "        sentences = sent_tokenize(doc, language='english')\n",
    "        return len(sentences)\n",
    "\n",
    "    def fit(self, x, y=None):\n",
    "        return self\n",
    "\n",
    "    def transform(self, docs):\n",
    "        return [{'length': len(doc),\n",
    "                 'num_sentences': self.number_sentences(doc)}\n",
    "                for doc in docs]"
   ]
  },
  {
   "cell_type": "code",
   "execution_count": 9,
   "metadata": {},
   "outputs": [],
   "source": [
    "from sklearn.base import BaseEstimator, TransformerMixin\n",
    "from nltk.stem import PorterStemmer\n",
    "from nltk import word_tokenize\n",
    "from nltk.corpus import stopwords\n",
    "import string\n",
    "\n",
    "\n",
    "def custom_tokenizer(words):\n",
    "    \n",
    "    \n",
    "    \"\"\"Preprocessing tokens as seen in the lexical notebook\"\"\"\n",
    "    tokens = word_tokenize(words.lower())\n",
    "    porter = PorterStemmer()\n",
    "    lemmas = [porter.stem(t) for t in tokens]\n",
    "    stoplist = stopwords.words('english')\n",
    "    lemmas_clean = [w for w in lemmas if w not in stoplist]\n",
    "    punctuation = set(string.punctuation)\n",
    "    lemmas_punct = [w for w in lemmas_clean if  w not in punctuation]\n",
    "\n",
    "    \n",
    "    return lemmas_punct\n"
   ]
  },
  {
   "cell_type": "code",
   "execution_count": 10,
   "metadata": {},
   "outputs": [],
   "source": [
    "from simM import SimMatrix\n",
    "from gensim.models import KeyedVectors\n",
    "from sklearn.pipeline import Pipeline\n",
    "from sklearn.preprocessing import MinMaxScaler\n",
    "from sklearn import feature_selection\n",
    "from sklearn.base import BaseEstimator, TransformerMixin\n",
    "from gsitk.preprocess import normalize\n",
    "import numpy as np\n",
    "import pandas as pd\n",
    "\n",
    "class Transformador (BaseEstimator, TransformerMixin):\n",
    "    def fit (self, x, y=None):\n",
    "        return self\n",
    "    def transform(self, X):\n",
    "        array = []\n",
    "        for i in range(0,len(X)):\n",
    "            array.append(normalize.preprocess(X[i]))\n",
    "        return np.array(array)"
   ]
  },
  {
   "cell_type": "code",
   "execution_count": 11,
   "metadata": {},
   "outputs": [],
   "source": [
    "embeddings = KeyedVectors.load_word2vec_format('./SBW-vectors-300-min5.txt')"
   ]
  },
  {
   "cell_type": "code",
   "execution_count": 12,
   "metadata": {},
   "outputs": [],
   "source": [
    "lexicon = pd.read_csv('ElhPolar_esV1.lex.txt', sep='\\t', header=None, names=['word', 'sentiment'])\n",
    "positive = list(set(lexicon[lexicon['sentiment']=='positive']['word'].values))\n",
    "negative = list(set(lexicon[lexicon['sentiment']=='negative']['word'].values))\n",
    "lexicon_words = [positive,negative]"
   ]
  },
  {
   "cell_type": "code",
   "execution_count": 14,
   "metadata": {},
   "outputs": [
    {
     "name": "stdout",
     "output_type": "stream",
     "text": [
      "Scores in every iteration [ 0.71204188  0.70680628  0.7434555   0.66315789]\n",
      "Accuracy: 0.71 (+/- 0.06)\n"
     ]
    }
   ],
   "source": [
    "from sklearn.pipeline import Pipeline, FeatureUnion\n",
    "from sklearn.feature_extraction.text import CountVectorizer, TfidfVectorizer, TfidfTransformer\n",
    "\n",
    "\n",
    "ngrams_featurizer = Pipeline([\n",
    "  ('count_vectorizer',  CountVectorizer(analyzer=\"word\", max_df=0.5, ngram_range=[1,2])),\n",
    "  ('tfidf_transformer', TfidfTransformer())\n",
    "])\n",
    "\n",
    "\n",
    "from sklearn.naive_bayes import MultinomialNB\n",
    "from sklearn.cross_validation import cross_val_score, KFold\n",
    "from sklearn.metrics import classification_report\n",
    "from sklearn.feature_extraction import DictVectorizer\n",
    "from sklearn.preprocessing import FunctionTransformer\n",
    "from sklearn.decomposition import NMF, LatentDirichletAllocation\n",
    "\n",
    "\n",
    "\n",
    "\n",
    "from sklearn.svm import SVC\n",
    "from sklearn.ensemble import AdaBoostClassifier #For Classification\n",
    "from sklearn.neighbors import KNeighborsClassifier\n",
    "\n",
    "## All the steps of the Pipeline should end with a sparse vector as the input data\n",
    "\n",
    "pipeline = Pipeline([\n",
    "       ('features', FeatureUnion([\n",
    "                    ('words', TfidfVectorizer(tokenizer=custom_tokenizer)),\n",
    "\n",
    "                   ('ngrams', ngrams_featurizer),\n",
    "                   ('lexical_stats', Pipeline([\n",
    "                                        ('stats', LexicalStats()),\n",
    "                                        ('vectors', DictVectorizer())\n",
    "                                    ])),\n",
    "                   ('lda', Pipeline([ \n",
    "                            ('count', CountVectorizer(tokenizer=custom_tokenizer)),\n",
    "                            ('lda',  LatentDirichletAllocation(n_topics=4, max_iter=5,\n",
    "                                                   learning_method='online', \n",
    "                                                   learning_offset=50.,\n",
    "                                                   random_state=0))\n",
    "                        ])),\n",
    "                    ('emb', Pipeline([\n",
    "                            ('preprocess', Transformador()),\n",
    "                            ('simM', SimMatrix(lexicon_words, embedding=embeddings,\n",
    "                                               remove_stopwords=False, pooling=np.max,\n",
    "                                               weighting=False, n_lexicon_words=100,\n",
    "                                               lex_values=None)),\n",
    "                            ('scale', MinMaxScaler(feature_range=(0,1))),\n",
    "                            ('percent', feature_selection.SelectPercentile(feature_selection.f_classif, percentile=25)),\n",
    "                        ]))\n",
    "\n",
    "              ])),\n",
    "       \n",
    "\n",
    "                #('clf', MultinomialNB(alpha=.01))  # classifier\n",
    "            ('clf', SVC(C=10, gamma= 1, kernel='linear', probability=True))\n",
    "        #('clf', AdaBoostClassifier(n_estimators=10, base_estimator=MultinomialNB(alpha=.01), learning_rate=1))\n",
    "        #('modelknn', KNeighborsClassifier(n_neighbors = 13))\n",
    "    ])\n",
    "#SVC, KNeighborsClassifier, AdaBoostClassifier, MultinomialNB\n",
    "# Using KFold validation\n",
    "\n",
    "cv = KFold(X.shape[0], 4, shuffle=True, random_state=33)\n",
    "scores = cross_val_score(pipeline, X, y, cv=cv)\n",
    "print(\"Scores in every iteration\", scores)\n",
    "print(\"Accuracy: %0.2f (+/- %0.2f)\" % (scores.mean(), scores.std() * 2))"
   ]
  },
  {
   "cell_type": "code",
   "execution_count": 77,
   "metadata": {},
   "outputs": [
    {
     "data": {
      "text/plain": [
       "Pipeline(steps=[('features', FeatureUnion(n_jobs=1,\n",
       "       transformer_list=[('words', TfidfVectorizer(analyzer='word', binary=False, decode_error='strict',\n",
       "        dtype=<class 'numpy.int64'>, encoding='utf-8', input='content',\n",
       "        lowercase=True, max_df=1.0, max_features=None, min_df=1,\n",
       "        ngram_r...   transformer_weights=None)), ('clf', MultinomialNB(alpha=0.01, class_prior=None, fit_prior=True))])"
      ]
     },
     "execution_count": 77,
     "metadata": {},
     "output_type": "execute_result"
    }
   ],
   "source": [
    "pipeline.fit(X,y)\n",
    "\n",
    "#y=pipeline.predict(['Vaya partido mas aburrido'])\n",
    "#print(y)"
   ]
  },
  {
   "cell_type": "code",
   "execution_count": 50,
   "metadata": {},
   "outputs": [
    {
     "data": {
      "text/plain": [
       "True"
      ]
     },
     "execution_count": 50,
     "metadata": {},
     "output_type": "execute_result"
    }
   ],
   "source": [
    "'ganar' in lexicon_words[0]"
   ]
  },
  {
   "cell_type": "code",
   "execution_count": 78,
   "metadata": {},
   "outputs": [],
   "source": [
    "l = pipeline.named_steps['features'].transformer_list[4][1].named_steps['simM'].lex_words"
   ]
  },
  {
   "cell_type": "code",
   "execution_count": 79,
   "metadata": {},
   "outputs": [
    {
     "data": {
      "text/plain": [
       "200"
      ]
     },
     "execution_count": 79,
     "metadata": {},
     "output_type": "execute_result"
    }
   ],
   "source": [
    "len(l)"
   ]
  },
  {
   "cell_type": "code",
   "execution_count": 80,
   "metadata": {},
   "outputs": [
    {
     "data": {
      "text/plain": [
       "200"
      ]
     },
     "execution_count": 80,
     "metadata": {},
     "output_type": "execute_result"
    }
   ],
   "source": [
    "len(set(l))"
   ]
  },
  {
   "cell_type": "code",
   "execution_count": 88,
   "metadata": {},
   "outputs": [],
   "source": [
    "from sklearn.pipeline import Pipeline\n",
    "from sklearn import feature_selection\n",
    "from simM import SimMatrix\n",
    "import matplotlib.pyplot as plt\n",
    "\n",
    "def plot_selected_feats(pipe, data_name, all_feats):\n",
    "    feats = sorted(zip(pipe.named_steps['features'].transformer_list[4][1].named_steps['simM'].lex_words,\n",
    "                       pipe.named_steps['features'].transformer_list[4][1].named_steps['percent'].scores_),\n",
    "                   key=lambda x: x[1], reverse=True)\n",
    "    all_feats[data_name] = feats\n",
    "\n",
    "    plt.plot(range(len(feats)), [f[1] for f in feats], 'o')\n",
    "    plt.title(data_name)\n",
    "    plt.show()"
   ]
  },
  {
   "cell_type": "code",
   "execution_count": 89,
   "metadata": {},
   "outputs": [
    {
     "data": {
      "image/png": "[encoded data removed]",
      "text/plain": [
       "<matplotlib.figure.Figure at 0x7fe652e27f28>"
      ]
     },
     "metadata": {},
     "output_type": "display_data"
    }
   ],
   "source": [
    "features = dict()\n",
    "plot_selected_feats(pipeline, '', features)"
   ]
  },
  {
   "cell_type": "code",
   "execution_count": null,
   "metadata": {},
   "outputs": [],
   "source": [
    "import seaborn as sns\n"
   ]
  },
  {
   "cell_type": "code",
   "execution_count": 86,
   "metadata": {},
   "outputs": [
    {
     "data": {
      "text/plain": [
       "[('mediocre', 109.58501),\n",
       " ('lesionado', 103.33264),\n",
       " ('despilfarro', 101.51237),\n",
       " ('mal', 100.0899),\n",
       " ('gastar', 96.983696),\n",
       " ('peor', 95.914711),\n",
       " ('atrás', 95.853142),\n",
       " ('fanático', 90.626419),\n",
       " ('sólo', 89.557091),\n",
       " ('soberbia', 84.250191),\n",
       " ('difícil', 80.305305),\n",
       " ('falso', 79.934502),\n",
       " ('rata', 78.837578),\n",
       " ('pobre', 75.872833),\n",
       " ('malo', 72.737839),\n",
       " ('extraño', 69.02932),\n",
       " ('jesús', 67.46534),\n",
       " ('envidia', 65.502327),\n",
       " ('gastado', 65.448532),\n",
       " ('jajajaja', 64.776398),\n",
       " ('problema', 64.327759),\n",
       " ('paleto', 62.447891),\n",
       " ('contrario', 62.186558),\n",
       " ('atacar', 60.972458),\n",
       " ('pasada', 60.137627),\n",
       " ('bien', 58.828526),\n",
       " ('cierto', 57.598907),\n",
       " ('verdad', 55.596001),\n",
       " ('quiero', 54.871967),\n",
       " ('frío', 52.538376),\n",
       " ('fracaso', 52.435741),\n",
       " ('bueno', 51.577042),\n",
       " ('feliz', 51.147247),\n",
       " ('cagarse', 51.075954),\n",
       " ('quitar', 50.592358),\n",
       " ('sueños', 49.937393),\n",
       " ('mierda', 49.83379),\n",
       " ('no', 49.456181),\n",
       " ('seguro', 49.210258),\n",
       " ('excepción', 48.437943),\n",
       " ('eres', 47.638393),\n",
       " ('gilipollas', 47.558163),\n",
       " ('muerto', 47.44817),\n",
       " ('entendido', 46.938709),\n",
       " ('pedante', 46.897816),\n",
       " ('intransigente', 46.648121),\n",
       " ('perdido', 45.810558),\n",
       " ('deuda', 45.745441),\n",
       " ('contento', 45.55957),\n",
       " ('correcto', 45.226185),\n",
       " ('justo', 45.09264),\n",
       " ('reconocer', 43.723053),\n",
       " ('nuestro', 43.477928),\n",
       " ('vaya', 43.245155),\n",
       " ('presión', 42.705246),\n",
       " ('querido', 42.146305),\n",
       " ('gusto', 41.891884),\n",
       " ('tranquilo', 41.541042),\n",
       " ('pronto', 41.133339),\n",
       " ('fortaleza', 40.66888),\n",
       " ('locura', 40.377331),\n",
       " ('sí', 39.838913),\n",
       " ('falta', 39.272419),\n",
       " ('llorar', 39.222481),\n",
       " ('disfruta', 39.060883),\n",
       " ('enhorabuena', 38.741531),\n",
       " ('único', 38.542023),\n",
       " ('fácil', 38.471619),\n",
       " ('pagar', 38.200813),\n",
       " ('jajaja', 37.85178),\n",
       " ('brillo', 37.794712),\n",
       " ('dar', 37.708549),\n",
       " ('sin', 37.103981),\n",
       " ('atraco', 36.628849),\n",
       " ('brecha', 36.166985),\n",
       " ('razón', 36.163918),\n",
       " ('error', 35.940624),\n",
       " ('aceptar', 35.479691),\n",
       " ('desdén', 34.970333),\n",
       " ('abajo', 34.203884),\n",
       " ('joder', 34.103458),\n",
       " ('contra', 33.492416),\n",
       " ('éxito', 32.652412),\n",
       " ('claro', 32.551529),\n",
       " ('rico', 32.435944),\n",
       " ('descansar', 32.374001),\n",
       " ('importante', 32.346706),\n",
       " ('jo', 32.187569),\n",
       " ('cojones', 32.068947),\n",
       " ('pena', 31.822939),\n",
       " ('afirmación', 31.741133),\n",
       " ('lamentable', 31.623446),\n",
       " ('fuera', 31.544825),\n",
       " ('dejar', 31.399799),\n",
       " ('negar', 31.184427),\n",
       " ('ánimo', 31.082521),\n",
       " ('eliminación', 30.997026),\n",
       " ('imperdonable', 30.756327),\n",
       " ('respeto', 30.643017),\n",
       " ('excusa', 30.372961),\n",
       " ('aburrimiento', 29.941095),\n",
       " ('todo', 29.658384),\n",
       " ('inteligente', 29.591894),\n",
       " ('olvidar', 29.590816),\n",
       " ('desfavorecido', 29.136826),\n",
       " ('grande', 28.367186),\n",
       " ('puta', 27.877401),\n",
       " ('buenos', 27.6141),\n",
       " ('preparado', 27.55974),\n",
       " ('sueño', 27.545683),\n",
       " ('vale', 27.227182),\n",
       " ('lucha', 27.079844),\n",
       " ('robo', 26.767651),\n",
       " ('lógico', 26.710764),\n",
       " ('criticar', 26.179626),\n",
       " ('hombre', 25.825172),\n",
       " ('coño', 25.587194),\n",
       " ('aburrido', 25.52685),\n",
       " ('bonito', 25.507488),\n",
       " ('grandeza', 25.307133),\n",
       " ('buen', 25.20524),\n",
       " ('cuidado', 25.159958),\n",
       " ('cumpleaños', 24.865152),\n",
       " ('apoyo', 24.768635),\n",
       " ('especial', 24.645306),\n",
       " ('vergüenza', 24.424129),\n",
       " ('perder', 23.342363),\n",
       " ('libre', 23.294964),\n",
       " ('bajo', 23.195009),\n",
       " ('suerte', 22.646393),\n",
       " ('huelga', 22.549267),\n",
       " ('buena', 22.54735),\n",
       " ('puto', 21.745659),\n",
       " ('poco', 21.558168),\n",
       " ('humillar', 21.122959),\n",
       " ('diablo', 20.996304),\n",
       " ('ridículo', 20.641785),\n",
       " ('estupidez', 20.401566),\n",
       " ('nuevo', 20.296396),\n",
       " ('rabiar', 20.218058),\n",
       " ('cómodo', 19.90683),\n",
       " ('jajajajaja', 19.82402),\n",
       " ('enfrentar', 19.215572),\n",
       " ('deleite', 18.827749),\n",
       " ('mas', 18.793926),\n",
       " ('arriba', 18.481834),\n",
       " ('duda', 18.392252),\n",
       " ('soñar', 18.098137),\n",
       " ('complicado', 17.892256),\n",
       " ('recuperar', 17.737209),\n",
       " ('buenas', 17.53006),\n",
       " ('eliminar', 17.116283),\n",
       " ('pinche', 16.585823),\n",
       " ('mejor', 16.231943),\n",
       " ('imposible', 16.10252),\n",
       " ('ayuda', 15.841318),\n",
       " ('valor', 15.550098),\n",
       " ('dios', 15.181238),\n",
       " ('rt', 14.988787),\n",
       " ('pero', 14.928742),\n",
       " ('saludo', 14.592193),\n",
       " ('seguridad', 14.328894),\n",
       " ('falla', 14.226015),\n",
       " ('mola', 13.702824),\n",
       " ('gran', 13.257621),\n",
       " ('saludos', 12.677693),\n",
       " ('estrella', 12.143223),\n",
       " ('humilde', 11.930115),\n",
       " ('vivo', 11.68238),\n",
       " ('disfrutar', 11.62676),\n",
       " ('gracias', 11.16004),\n",
       " ('escoria', 9.6611605),\n",
       " ('raro', 8.7905264),\n",
       " ('favor', 8.5389538),\n",
       " ('jajajajaj', 7.2829089),\n",
       " ('campeón', 7.2611756),\n",
       " ('negociar', 7.1655974),\n",
       " ('defensa', 7.1599393),\n",
       " ('ganar', 6.6323524),\n",
       " ('terrible', 6.0128684),\n",
       " ('genial', 5.8494372),\n",
       " ('afición', 5.0046792),\n",
       " ('victoria', 4.5761204),\n",
       " ('acuerdo', 4.1854081),\n",
       " ('favorito', 3.8800457),\n",
       " ('gana', 3.8191276),\n",
       " ('partidazo', 3.5886664),\n",
       " ('donar', 3.1727614),\n",
       " ('superior', 2.7509234),\n",
       " ('cabrón', 2.6685882),\n",
       " ('directo', 2.1235607),\n",
       " ('retraso', 1.118342),\n",
       " ('duro', 0.98937893),\n",
       " ('oferta', 0.84464371),\n",
       " ('oro', 0.83116663),\n",
       " ('apenas', 0.4640716),\n",
       " ('descanso', 0.079334237),\n",
       " ('dominio', 0.045243878),\n",
       " ('crack', 0.019346019)]"
      ]
     },
     "execution_count": 86,
     "metadata": {},
     "output_type": "execute_result"
    }
   ],
   "source": [
    "features['']"
   ]
  }
 ],
 "metadata": {
  "kernelspec": {
   "display_name": "Python 3",
   "language": "python",
   "name": "python3"
  },
  "language_info": {
   "codemirror_mode": {
    "name": "ipython",
    "version": 3
   },
   "file_extension": ".py",
   "mimetype": "text/x-python",
   "name": "python",
   "nbconvert_exporter": "python",
   "pygments_lexer": "ipython3",
   "version": "3.6.3"
  }
 },
 "nbformat": 4,
 "nbformat_minor": 2
}
