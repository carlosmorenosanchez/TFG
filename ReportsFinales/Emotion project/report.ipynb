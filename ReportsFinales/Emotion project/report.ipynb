{
 "cells": [
  {
   "cell_type": "markdown",
   "metadata": {},
   "source": [
    "# EMOTION REPORT"
   ]
  },
  {
   "cell_type": "markdown",
   "metadata": {},
   "source": [
    "We load the files extracted from Pybossa with the annotated data."
   ]
  },
  {
   "cell_type": "code",
   "execution_count": 1,
   "metadata": {},
   "outputs": [],
   "source": [
    "from pybossa import *\n",
    "import pandas as pd\n",
    "\n",
    "filewithids = 'csv/tweets.csv'\n",
    "\n",
    "taskjsonpath= 'fsa_task.json'\n",
    "\n",
    "taskrunjsonpath = 'fsa_task_run.json'\n",
    "\n",
    "numberofcategories = 7\n",
    "\n",
    "goldencsvpath = 'csv/Golden.csv'"
   ]
  },
  {
   "cell_type": "markdown",
   "metadata": {},
   "source": [
    "With these documents we generate the report files executing the function pybossaReport.\n",
    "This function returns the Fleiss` kappa of the emotion project"
   ]
  },
  {
   "cell_type": "code",
   "execution_count": 2,
   "metadata": {},
   "outputs": [
    {
     "name": "stdout",
     "output_type": "stream",
     "text": [
      "0.497674635658\n"
     ]
    }
   ],
   "source": [
    "# Si no hay golden poner None\n",
    "pybossaReport(filewithids, taskjsonpath, taskrunjsonpath, numberofcategories, goldencsvpath)"
   ]
  },
  {
   "cell_type": "markdown",
   "metadata": {},
   "source": [
    "Here is presented each user with its Golden trust and Majority trust."
   ]
  },
  {
   "cell_type": "code",
   "execution_count": 3,
   "metadata": {},
   "outputs": [
    {
     "data": {
      "text/html": [
       "<div>\n",
       "<table border=\"1\" class=\"dataframe\">\n",
       "  <thead>\n",
       "    <tr style=\"text-align: right;\">\n",
       "      <th></th>\n",
       "      <th>User</th>\n",
       "      <th>Golden trust</th>\n",
       "      <th>Majority trust</th>\n",
       "    </tr>\n",
       "  </thead>\n",
       "  <tbody>\n",
       "    <tr>\n",
       "      <th>17</th>\n",
       "      <td>1</td>\n",
       "      <td>0.888889</td>\n",
       "      <td>0.533084</td>\n",
       "    </tr>\n",
       "    <tr>\n",
       "      <th>18</th>\n",
       "      <td>2</td>\n",
       "      <td>0.888889</td>\n",
       "      <td>0.656679</td>\n",
       "    </tr>\n",
       "  </tbody>\n",
       "</table>\n",
       "</div>"
      ],
      "text/plain": [
       "    User  Golden trust  Majority trust\n",
       "17     1      0.888889        0.533084\n",
       "18     2      0.888889        0.656679"
      ]
     },
     "execution_count": 3,
     "metadata": {},
     "output_type": "execute_result"
    }
   ],
   "source": [
    "usertweetinfo = pd.read_csv('usertweetinfo.csv', encoding=\"utf-8\")\n",
    "usertweetinfo2 = usertweetinfo[['User','Golden trust','Majority trust']]\n",
    "usertweetinfo2[17:19]"
   ]
  },
  {
   "cell_type": "markdown",
   "metadata": {},
   "source": [
    "## MAJORITY REPORT\n",
    "We load the majority report generated in pybossaReport."
   ]
  },
  {
   "cell_type": "code",
   "execution_count": 4,
   "metadata": {},
   "outputs": [
    {
     "data": {
      "text/html": [
       "<div>\n",
       "<table border=\"1\" class=\"dataframe\">\n",
       "  <thead>\n",
       "    <tr style=\"text-align: right;\">\n",
       "      <th></th>\n",
       "      <th>Tweet</th>\n",
       "      <th>Cólera</th>\n",
       "      <th>Tristeza</th>\n",
       "      <th>NoEmocion</th>\n",
       "      <th>Felicidad</th>\n",
       "      <th>Sorpresa</th>\n",
       "      <th>Miedo</th>\n",
       "      <th>Asco</th>\n",
       "    </tr>\n",
       "  </thead>\n",
       "  <tbody>\n",
       "    <tr>\n",
       "      <th>0</th>\n",
       "      <td>@AS_Manolete Y con el atleti podemos soñar otr...</td>\n",
       "      <td>1.0</td>\n",
       "      <td>0.0</td>\n",
       "      <td>0.0</td>\n",
       "      <td>0.0</td>\n",
       "      <td>0.0</td>\n",
       "      <td>0.0</td>\n",
       "      <td>0.0</td>\n",
       "    </tr>\n",
       "    <tr>\n",
       "      <th>1</th>\n",
       "      <td>@eSports_Barca @MNDZPAU1 Md</td>\n",
       "      <td>0.0</td>\n",
       "      <td>0.0</td>\n",
       "      <td>1.0</td>\n",
       "      <td>0.0</td>\n",
       "      <td>0.0</td>\n",
       "      <td>0.0</td>\n",
       "      <td>0.0</td>\n",
       "    </tr>\n",
       "    <tr>\n",
       "      <th>2</th>\n",
       "      <td>Ahhhh claro que es del Atleti https://t.co/xm4...</td>\n",
       "      <td>0.0</td>\n",
       "      <td>0.0</td>\n",
       "      <td>1.0</td>\n",
       "      <td>0.0</td>\n",
       "      <td>0.0</td>\n",
       "      <td>0.0</td>\n",
       "      <td>0.0</td>\n",
       "    </tr>\n",
       "    <tr>\n",
       "      <th>3</th>\n",
       "      <td>Que venga Arthur me tiene más emocionado que c...</td>\n",
       "      <td>0.0</td>\n",
       "      <td>0.0</td>\n",
       "      <td>0.0</td>\n",
       "      <td>1.0</td>\n",
       "      <td>0.0</td>\n",
       "      <td>0.0</td>\n",
       "      <td>0.0</td>\n",
       "    </tr>\n",
       "    <tr>\n",
       "      <th>4</th>\n",
       "      <td>Me ha gustado un vídeo de @YouTube (https://t....</td>\n",
       "      <td>0.0</td>\n",
       "      <td>0.0</td>\n",
       "      <td>0.0</td>\n",
       "      <td>1.0</td>\n",
       "      <td>0.0</td>\n",
       "      <td>0.0</td>\n",
       "      <td>0.0</td>\n",
       "    </tr>\n",
       "  </tbody>\n",
       "</table>\n",
       "</div>"
      ],
      "text/plain": [
       "                                               Tweet  Cólera  Tristeza  \\\n",
       "0  @AS_Manolete Y con el atleti podemos soñar otr...     1.0       0.0   \n",
       "1                        @eSports_Barca @MNDZPAU1 Md     0.0       0.0   \n",
       "2  Ahhhh claro que es del Atleti https://t.co/xm4...     0.0       0.0   \n",
       "3  Que venga Arthur me tiene más emocionado que c...     0.0       0.0   \n",
       "4  Me ha gustado un vídeo de @YouTube (https://t....     0.0       0.0   \n",
       "\n",
       "   NoEmocion  Felicidad  Sorpresa  Miedo  Asco  \n",
       "0        0.0        0.0       0.0    0.0   0.0  \n",
       "1        1.0        0.0       0.0    0.0   0.0  \n",
       "2        1.0        0.0       0.0    0.0   0.0  \n",
       "3        0.0        1.0       0.0    0.0   0.0  \n",
       "4        0.0        1.0       0.0    0.0   0.0  "
      ]
     },
     "execution_count": 4,
     "metadata": {},
     "output_type": "execute_result"
    }
   ],
   "source": [
    "majoritypercent = pd.read_csv('./csv/majoritypercent.csv', encoding=\"utf-8\")\n",
    "\n",
    "majoritypercent[:5]"
   ]
  },
  {
   "cell_type": "markdown",
   "metadata": {},
   "source": [
    "We create the column Emotion with the most chosen answer according to the user`s majority confidence."
   ]
  },
  {
   "cell_type": "code",
   "execution_count": 6,
   "metadata": {},
   "outputs": [
    {
     "data": {
      "text/html": [
       "<div>\n",
       "<table border=\"1\" class=\"dataframe\">\n",
       "  <thead>\n",
       "    <tr style=\"text-align: right;\">\n",
       "      <th></th>\n",
       "      <th>Tweet</th>\n",
       "      <th>Cólera</th>\n",
       "      <th>Tristeza</th>\n",
       "      <th>NoEmocion</th>\n",
       "      <th>Felicidad</th>\n",
       "      <th>Sorpresa</th>\n",
       "      <th>Miedo</th>\n",
       "      <th>Asco</th>\n",
       "      <th>Emotion</th>\n",
       "    </tr>\n",
       "  </thead>\n",
       "  <tbody>\n",
       "    <tr>\n",
       "      <th>0</th>\n",
       "      <td>@AS_Manolete Y con el atleti podemos soñar otr...</td>\n",
       "      <td>1.000000</td>\n",
       "      <td>0.0</td>\n",
       "      <td>0.000000</td>\n",
       "      <td>0.0</td>\n",
       "      <td>0.0</td>\n",
       "      <td>0.0</td>\n",
       "      <td>0.0</td>\n",
       "      <td>Anger</td>\n",
       "    </tr>\n",
       "    <tr>\n",
       "      <th>1</th>\n",
       "      <td>@eSports_Barca @MNDZPAU1 Md</td>\n",
       "      <td>0.000000</td>\n",
       "      <td>0.0</td>\n",
       "      <td>1.000000</td>\n",
       "      <td>0.0</td>\n",
       "      <td>0.0</td>\n",
       "      <td>0.0</td>\n",
       "      <td>0.0</td>\n",
       "      <td>NoEmotion</td>\n",
       "    </tr>\n",
       "    <tr>\n",
       "      <th>2</th>\n",
       "      <td>Ahhhh claro que es del Atleti https://t.co/xm4...</td>\n",
       "      <td>0.000000</td>\n",
       "      <td>0.0</td>\n",
       "      <td>1.000000</td>\n",
       "      <td>0.0</td>\n",
       "      <td>0.0</td>\n",
       "      <td>0.0</td>\n",
       "      <td>0.0</td>\n",
       "      <td>NoEmotion</td>\n",
       "    </tr>\n",
       "    <tr>\n",
       "      <th>3</th>\n",
       "      <td>Que venga Arthur me tiene más emocionado que c...</td>\n",
       "      <td>0.000000</td>\n",
       "      <td>0.0</td>\n",
       "      <td>0.000000</td>\n",
       "      <td>1.0</td>\n",
       "      <td>0.0</td>\n",
       "      <td>0.0</td>\n",
       "      <td>0.0</td>\n",
       "      <td>Happiness</td>\n",
       "    </tr>\n",
       "    <tr>\n",
       "      <th>4</th>\n",
       "      <td>Me ha gustado un vídeo de @YouTube (https://t....</td>\n",
       "      <td>0.000000</td>\n",
       "      <td>0.0</td>\n",
       "      <td>0.000000</td>\n",
       "      <td>1.0</td>\n",
       "      <td>0.0</td>\n",
       "      <td>0.0</td>\n",
       "      <td>0.0</td>\n",
       "      <td>Happiness</td>\n",
       "    </tr>\n",
       "    <tr>\n",
       "      <th>5</th>\n",
       "      <td>La 'rajada' de un ex objetivo del Barça sobre ...</td>\n",
       "      <td>1.000000</td>\n",
       "      <td>0.0</td>\n",
       "      <td>0.000000</td>\n",
       "      <td>0.0</td>\n",
       "      <td>0.0</td>\n",
       "      <td>0.0</td>\n",
       "      <td>0.0</td>\n",
       "      <td>Anger</td>\n",
       "    </tr>\n",
       "    <tr>\n",
       "      <th>6</th>\n",
       "      <td>#Deportes ➡️ Hace 17 años, Messi por primera v...</td>\n",
       "      <td>0.000000</td>\n",
       "      <td>0.0</td>\n",
       "      <td>0.000000</td>\n",
       "      <td>1.0</td>\n",
       "      <td>0.0</td>\n",
       "      <td>0.0</td>\n",
       "      <td>0.0</td>\n",
       "      <td>Happiness</td>\n",
       "    </tr>\n",
       "    <tr>\n",
       "      <th>7</th>\n",
       "      <td>@marcmarquez93 @3gerardpique @SergiRoberto10 @...</td>\n",
       "      <td>1.000000</td>\n",
       "      <td>0.0</td>\n",
       "      <td>0.000000</td>\n",
       "      <td>0.0</td>\n",
       "      <td>0.0</td>\n",
       "      <td>0.0</td>\n",
       "      <td>0.0</td>\n",
       "      <td>Anger</td>\n",
       "    </tr>\n",
       "    <tr>\n",
       "      <th>8</th>\n",
       "      <td>Gerard Piqué confirma la primera fuga sonada d...</td>\n",
       "      <td>0.000000</td>\n",
       "      <td>0.0</td>\n",
       "      <td>1.000000</td>\n",
       "      <td>0.0</td>\n",
       "      <td>0.0</td>\n",
       "      <td>0.0</td>\n",
       "      <td>0.0</td>\n",
       "      <td>NoEmotion</td>\n",
       "    </tr>\n",
       "    <tr>\n",
       "      <th>9</th>\n",
       "      <td>Sin embargo el balance de Ligas va ser 3-1 par...</td>\n",
       "      <td>0.448059</td>\n",
       "      <td>0.0</td>\n",
       "      <td>0.551941</td>\n",
       "      <td>0.0</td>\n",
       "      <td>0.0</td>\n",
       "      <td>0.0</td>\n",
       "      <td>0.0</td>\n",
       "      <td>NoEmotion</td>\n",
       "    </tr>\n",
       "  </tbody>\n",
       "</table>\n",
       "</div>"
      ],
      "text/plain": [
       "                                               Tweet    Cólera  Tristeza  \\\n",
       "0  @AS_Manolete Y con el atleti podemos soñar otr...  1.000000       0.0   \n",
       "1                        @eSports_Barca @MNDZPAU1 Md  0.000000       0.0   \n",
       "2  Ahhhh claro que es del Atleti https://t.co/xm4...  0.000000       0.0   \n",
       "3  Que venga Arthur me tiene más emocionado que c...  0.000000       0.0   \n",
       "4  Me ha gustado un vídeo de @YouTube (https://t....  0.000000       0.0   \n",
       "5  La 'rajada' de un ex objetivo del Barça sobre ...  1.000000       0.0   \n",
       "6  #Deportes ➡️ Hace 17 años, Messi por primera v...  0.000000       0.0   \n",
       "7  @marcmarquez93 @3gerardpique @SergiRoberto10 @...  1.000000       0.0   \n",
       "8  Gerard Piqué confirma la primera fuga sonada d...  0.000000       0.0   \n",
       "9  Sin embargo el balance de Ligas va ser 3-1 par...  0.448059       0.0   \n",
       "\n",
       "   NoEmocion  Felicidad  Sorpresa  Miedo  Asco    Emotion  \n",
       "0   0.000000        0.0       0.0    0.0   0.0      Anger  \n",
       "1   1.000000        0.0       0.0    0.0   0.0  NoEmotion  \n",
       "2   1.000000        0.0       0.0    0.0   0.0  NoEmotion  \n",
       "3   0.000000        1.0       0.0    0.0   0.0  Happiness  \n",
       "4   0.000000        1.0       0.0    0.0   0.0  Happiness  \n",
       "5   0.000000        0.0       0.0    0.0   0.0      Anger  \n",
       "6   0.000000        1.0       0.0    0.0   0.0  Happiness  \n",
       "7   0.000000        0.0       0.0    0.0   0.0      Anger  \n",
       "8   1.000000        0.0       0.0    0.0   0.0  NoEmotion  \n",
       "9   0.551941        0.0       0.0    0.0   0.0  NoEmotion  "
      ]
     },
     "execution_count": 6,
     "metadata": {},
     "output_type": "execute_result"
    }
   ],
   "source": [
    "majoritypercent['Emotion'] = 0\n",
    "majoritypercent.loc[majoritypercent[\"Emotion\"] == 0, \"Emotion\"] = ((majoritypercent.Cólera > majoritypercent.Tristeza) & (majoritypercent.Cólera > majoritypercent.NoEmocion) & (majoritypercent.Cólera > majoritypercent.Felicidad)& (majoritypercent.Cólera > majoritypercent.Sorpresa)& (majoritypercent.Cólera > majoritypercent.Miedo)& (majoritypercent.Cólera > majoritypercent.Asco)).astype(int)\n",
    "majoritypercent.loc[majoritypercent[\"Emotion\"] == 0, \"Emotion\"] = ((majoritypercent.Tristeza > majoritypercent.Cólera) & (majoritypercent.Tristeza > majoritypercent.NoEmocion)& (majoritypercent.Tristeza > majoritypercent.Felicidad)& (majoritypercent.Tristeza > majoritypercent.Sorpresa)& (majoritypercent.Tristeza > majoritypercent.Miedo)& (majoritypercent.Tristeza > majoritypercent.Asco)).astype(int)+2 \n",
    "majoritypercent.loc[majoritypercent[\"Emotion\"] == 2, \"Emotion\"] = ((majoritypercent.NoEmocion > majoritypercent.Cólera) & (majoritypercent.NoEmocion > majoritypercent.Tristeza)& (majoritypercent.NoEmocion > majoritypercent.Felicidad)& (majoritypercent.NoEmocion > majoritypercent.Sorpresa)& (majoritypercent.NoEmocion > majoritypercent.Miedo)& (majoritypercent.NoEmocion > majoritypercent.Asco)).astype(int)+4 \n",
    "majoritypercent.loc[majoritypercent[\"Emotion\"] == 4, \"Emotion\"] = ((majoritypercent.Felicidad > majoritypercent.Cólera) & (majoritypercent.Felicidad > majoritypercent.Tristeza)& (majoritypercent.Felicidad > majoritypercent.NoEmocion)& (majoritypercent.Felicidad > majoritypercent.Sorpresa)& (majoritypercent.Felicidad > majoritypercent.Miedo)& (majoritypercent.Felicidad > majoritypercent.Asco)).astype(int)+6 \n",
    "majoritypercent.loc[majoritypercent[\"Emotion\"] == 6, \"Emotion\"] = ((majoritypercent.Sorpresa > majoritypercent.Cólera) & (majoritypercent.Sorpresa > majoritypercent.Tristeza)& (majoritypercent.Sorpresa > majoritypercent.NoEmocion)& (majoritypercent.Sorpresa > majoritypercent.Felicidad)& (majoritypercent.Sorpresa > majoritypercent.Miedo)& (majoritypercent.Sorpresa > majoritypercent.Asco)).astype(int)+8 \n",
    "majoritypercent.loc[majoritypercent[\"Emotion\"] == 8, \"Emotion\"] = ((majoritypercent.Miedo > majoritypercent.Cólera) & (majoritypercent.Miedo > majoritypercent.Tristeza)& (majoritypercent.Miedo > majoritypercent.NoEmocion)& (majoritypercent.Miedo > majoritypercent.Felicidad)& (majoritypercent.Miedo > majoritypercent.Sorpresa)& (majoritypercent.Miedo > majoritypercent.Asco)).astype(int)+10 \n",
    "\n",
    "majoritypercent.loc[majoritypercent[\"Emotion\"] == 1, \"Emotion\"] = \"Anger\"\n",
    "majoritypercent.loc[majoritypercent[\"Emotion\"] == 3, \"Emotion\"] = \"Sadness\"\n",
    "majoritypercent.loc[majoritypercent[\"Emotion\"] == 5, \"Emotion\"] = \"NoEmotion\"\n",
    "majoritypercent.loc[majoritypercent[\"Emotion\"] == 7, \"Emotion\"] = \"Happiness\"\n",
    "majoritypercent.loc[majoritypercent[\"Emotion\"] == 9, \"Emotion\"] = \"Surprise\"\n",
    "majoritypercent.loc[majoritypercent[\"Emotion\"] == 10, \"Emotion\"] = \"Disgust\"\n",
    "majoritypercent.loc[majoritypercent[\"Emotion\"] == 11, \"Emotion\"] = \"Fear\"\n",
    "\n",
    "majoritypercent[:10]"
   ]
  },
  {
   "cell_type": "markdown",
   "metadata": {},
   "source": [
    "We create the column FullAgreement to identify in which tweets it has been full agreement in the chosen answer."
   ]
  },
  {
   "cell_type": "code",
   "execution_count": 8,
   "metadata": {},
   "outputs": [
    {
     "data": {
      "text/html": [
       "<div>\n",
       "<table border=\"1\" class=\"dataframe\">\n",
       "  <thead>\n",
       "    <tr style=\"text-align: right;\">\n",
       "      <th></th>\n",
       "      <th>Tweet</th>\n",
       "      <th>Cólera</th>\n",
       "      <th>Tristeza</th>\n",
       "      <th>NoEmocion</th>\n",
       "      <th>Felicidad</th>\n",
       "      <th>Sorpresa</th>\n",
       "      <th>Miedo</th>\n",
       "      <th>Asco</th>\n",
       "      <th>Emotion</th>\n",
       "      <th>FullAgreement</th>\n",
       "    </tr>\n",
       "  </thead>\n",
       "  <tbody>\n",
       "    <tr>\n",
       "      <th>0</th>\n",
       "      <td>@AS_Manolete Y con el atleti podemos soñar otr...</td>\n",
       "      <td>1.0</td>\n",
       "      <td>0.0</td>\n",
       "      <td>0.0</td>\n",
       "      <td>0.0</td>\n",
       "      <td>0.0</td>\n",
       "      <td>0.0</td>\n",
       "      <td>0.0</td>\n",
       "      <td>Anger</td>\n",
       "      <td>1</td>\n",
       "    </tr>\n",
       "    <tr>\n",
       "      <th>1</th>\n",
       "      <td>@eSports_Barca @MNDZPAU1 Md</td>\n",
       "      <td>0.0</td>\n",
       "      <td>0.0</td>\n",
       "      <td>1.0</td>\n",
       "      <td>0.0</td>\n",
       "      <td>0.0</td>\n",
       "      <td>0.0</td>\n",
       "      <td>0.0</td>\n",
       "      <td>NoEmotion</td>\n",
       "      <td>1</td>\n",
       "    </tr>\n",
       "    <tr>\n",
       "      <th>2</th>\n",
       "      <td>Ahhhh claro que es del Atleti https://t.co/xm4...</td>\n",
       "      <td>0.0</td>\n",
       "      <td>0.0</td>\n",
       "      <td>1.0</td>\n",
       "      <td>0.0</td>\n",
       "      <td>0.0</td>\n",
       "      <td>0.0</td>\n",
       "      <td>0.0</td>\n",
       "      <td>NoEmotion</td>\n",
       "      <td>1</td>\n",
       "    </tr>\n",
       "    <tr>\n",
       "      <th>3</th>\n",
       "      <td>Que venga Arthur me tiene más emocionado que c...</td>\n",
       "      <td>0.0</td>\n",
       "      <td>0.0</td>\n",
       "      <td>0.0</td>\n",
       "      <td>1.0</td>\n",
       "      <td>0.0</td>\n",
       "      <td>0.0</td>\n",
       "      <td>0.0</td>\n",
       "      <td>Happiness</td>\n",
       "      <td>1</td>\n",
       "    </tr>\n",
       "    <tr>\n",
       "      <th>4</th>\n",
       "      <td>Me ha gustado un vídeo de @YouTube (https://t....</td>\n",
       "      <td>0.0</td>\n",
       "      <td>0.0</td>\n",
       "      <td>0.0</td>\n",
       "      <td>1.0</td>\n",
       "      <td>0.0</td>\n",
       "      <td>0.0</td>\n",
       "      <td>0.0</td>\n",
       "      <td>Happiness</td>\n",
       "      <td>1</td>\n",
       "    </tr>\n",
       "  </tbody>\n",
       "</table>\n",
       "</div>"
      ],
      "text/plain": [
       "                                               Tweet  Cólera  Tristeza  \\\n",
       "0  @AS_Manolete Y con el atleti podemos soñar otr...     1.0       0.0   \n",
       "1                        @eSports_Barca @MNDZPAU1 Md     0.0       0.0   \n",
       "2  Ahhhh claro que es del Atleti https://t.co/xm4...     0.0       0.0   \n",
       "3  Que venga Arthur me tiene más emocionado que c...     0.0       0.0   \n",
       "4  Me ha gustado un vídeo de @YouTube (https://t....     0.0       0.0   \n",
       "\n",
       "   NoEmocion  Felicidad  Sorpresa  Miedo  Asco    Emotion  FullAgreement  \n",
       "0        0.0        0.0       0.0    0.0   0.0      Anger              1  \n",
       "1        1.0        0.0       0.0    0.0   0.0  NoEmotion              1  \n",
       "2        1.0        0.0       0.0    0.0   0.0  NoEmotion              1  \n",
       "3        0.0        1.0       0.0    0.0   0.0  Happiness              1  \n",
       "4        0.0        1.0       0.0    0.0   0.0  Happiness              1  "
      ]
     },
     "execution_count": 8,
     "metadata": {},
     "output_type": "execute_result"
    }
   ],
   "source": [
    "majoritypercent['FullAgreement']=0\n",
    "majoritypercent.FullAgreement = ((majoritypercent.Tristeza == 1) | (majoritypercent.Cólera == 1) | (majoritypercent.NoEmocion == 1) | (majoritypercent.Asco == 1) | (majoritypercent.Miedo == 1) | (majoritypercent.Sorpresa == 1) | (majoritypercent.Felicidad == 1)).astype(int)\n",
    "majoritypercent[:5]"
   ]
  },
  {
   "cell_type": "markdown",
   "metadata": {},
   "source": [
    "These are the columns we are interested for the emotion golden report."
   ]
  },
  {
   "cell_type": "code",
   "execution_count": 9,
   "metadata": {},
   "outputs": [
    {
     "data": {
      "text/html": [
       "<div>\n",
       "<table border=\"1\" class=\"dataframe\">\n",
       "  <thead>\n",
       "    <tr style=\"text-align: right;\">\n",
       "      <th></th>\n",
       "      <th>Tweet</th>\n",
       "      <th>Felicidad</th>\n",
       "      <th>Tristeza</th>\n",
       "      <th>Cólera</th>\n",
       "      <th>Asco</th>\n",
       "      <th>Miedo</th>\n",
       "      <th>Sorpresa</th>\n",
       "      <th>NoEmocion</th>\n",
       "      <th>Emotion</th>\n",
       "      <th>FullAgreement</th>\n",
       "    </tr>\n",
       "  </thead>\n",
       "  <tbody>\n",
       "    <tr>\n",
       "      <th>0</th>\n",
       "      <td>@AS_Manolete Y con el atleti podemos soñar otr...</td>\n",
       "      <td>0.0</td>\n",
       "      <td>0.0</td>\n",
       "      <td>1.0</td>\n",
       "      <td>0.0</td>\n",
       "      <td>0.0</td>\n",
       "      <td>0.0</td>\n",
       "      <td>0.0</td>\n",
       "      <td>Anger</td>\n",
       "      <td>1</td>\n",
       "    </tr>\n",
       "    <tr>\n",
       "      <th>1</th>\n",
       "      <td>@eSports_Barca @MNDZPAU1 Md</td>\n",
       "      <td>0.0</td>\n",
       "      <td>0.0</td>\n",
       "      <td>0.0</td>\n",
       "      <td>0.0</td>\n",
       "      <td>0.0</td>\n",
       "      <td>0.0</td>\n",
       "      <td>1.0</td>\n",
       "      <td>NoEmotion</td>\n",
       "      <td>1</td>\n",
       "    </tr>\n",
       "    <tr>\n",
       "      <th>2</th>\n",
       "      <td>Ahhhh claro que es del Atleti https://t.co/xm4...</td>\n",
       "      <td>0.0</td>\n",
       "      <td>0.0</td>\n",
       "      <td>0.0</td>\n",
       "      <td>0.0</td>\n",
       "      <td>0.0</td>\n",
       "      <td>0.0</td>\n",
       "      <td>1.0</td>\n",
       "      <td>NoEmotion</td>\n",
       "      <td>1</td>\n",
       "    </tr>\n",
       "    <tr>\n",
       "      <th>3</th>\n",
       "      <td>Que venga Arthur me tiene más emocionado que c...</td>\n",
       "      <td>1.0</td>\n",
       "      <td>0.0</td>\n",
       "      <td>0.0</td>\n",
       "      <td>0.0</td>\n",
       "      <td>0.0</td>\n",
       "      <td>0.0</td>\n",
       "      <td>0.0</td>\n",
       "      <td>Happiness</td>\n",
       "      <td>1</td>\n",
       "    </tr>\n",
       "    <tr>\n",
       "      <th>4</th>\n",
       "      <td>Me ha gustado un vídeo de @YouTube (https://t....</td>\n",
       "      <td>1.0</td>\n",
       "      <td>0.0</td>\n",
       "      <td>0.0</td>\n",
       "      <td>0.0</td>\n",
       "      <td>0.0</td>\n",
       "      <td>0.0</td>\n",
       "      <td>0.0</td>\n",
       "      <td>Happiness</td>\n",
       "      <td>1</td>\n",
       "    </tr>\n",
       "  </tbody>\n",
       "</table>\n",
       "</div>"
      ],
      "text/plain": [
       "                                               Tweet  Felicidad  Tristeza  \\\n",
       "0  @AS_Manolete Y con el atleti podemos soñar otr...        0.0       0.0   \n",
       "1                        @eSports_Barca @MNDZPAU1 Md        0.0       0.0   \n",
       "2  Ahhhh claro que es del Atleti https://t.co/xm4...        0.0       0.0   \n",
       "3  Que venga Arthur me tiene más emocionado que c...        1.0       0.0   \n",
       "4  Me ha gustado un vídeo de @YouTube (https://t....        1.0       0.0   \n",
       "\n",
       "   Cólera  Asco  Miedo  Sorpresa  NoEmocion    Emotion  FullAgreement  \n",
       "0     1.0   0.0    0.0       0.0        0.0      Anger              1  \n",
       "1     0.0   0.0    0.0       0.0        1.0  NoEmotion              1  \n",
       "2     0.0   0.0    0.0       0.0        1.0  NoEmotion              1  \n",
       "3     0.0   0.0    0.0       0.0        0.0  Happiness              1  \n",
       "4     0.0   0.0    0.0       0.0        0.0  Happiness              1  "
      ]
     },
     "execution_count": 9,
     "metadata": {},
     "output_type": "execute_result"
    }
   ],
   "source": [
    "majority1 = majoritypercent[['Tweet','Felicidad','Tristeza','Cólera','Asco','Miedo','Sorpresa','NoEmocion','Emotion','FullAgreement']]\n",
    "majority1[:5]"
   ]
  },
  {
   "cell_type": "markdown",
   "metadata": {},
   "source": [
    "The number of tweets where it has been full agreement"
   ]
  },
  {
   "cell_type": "code",
   "execution_count": 10,
   "metadata": {},
   "outputs": [
    {
     "data": {
      "text/plain": [
       "FullAgreement\n",
       "0    291\n",
       "1    510\n",
       "dtype: int64"
      ]
     },
     "execution_count": 10,
     "metadata": {},
     "output_type": "execute_result"
    }
   ],
   "source": [
    "import seaborn as sns\n",
    "majority1.groupby('FullAgreement').size()"
   ]
  },
  {
   "cell_type": "markdown",
   "metadata": {},
   "source": [
    "Full agreement graphic."
   ]
  },
  {
   "cell_type": "code",
   "execution_count": 11,
   "metadata": {},
   "outputs": [
    {
     "data": {
      "text/plain": [
       "<matplotlib.axes._subplots.AxesSubplot at 0x7f2eb4ad9c50>"
      ]
     },
     "execution_count": 11,
     "metadata": {},
     "output_type": "execute_result"
    },
    {
     "data": {
      "image/png": "[encoded data removed]",
      "text/plain": [
       "<matplotlib.figure.Figure at 0x7f2ebf3d7dd8>"
      ]
     },
     "metadata": {},
     "output_type": "display_data"
    }
   ],
   "source": [
    "sns.countplot('FullAgreement', data=majority1)"
   ]
  },
  {
   "cell_type": "markdown",
   "metadata": {},
   "source": [
    "The number of chosen answers."
   ]
  },
  {
   "cell_type": "code",
   "execution_count": 12,
   "metadata": {},
   "outputs": [
    {
     "data": {
      "text/plain": [
       "Emotion\n",
       "Anger        105\n",
       "Disgust       53\n",
       "Fear           9\n",
       "Happiness    158\n",
       "NoEmotion    341\n",
       "Sadness       87\n",
       "Surprise      48\n",
       "dtype: int64"
      ]
     },
     "execution_count": 12,
     "metadata": {},
     "output_type": "execute_result"
    }
   ],
   "source": [
    "majority1.groupby('Emotion').size()"
   ]
  },
  {
   "cell_type": "markdown",
   "metadata": {},
   "source": [
    "Chosen answers graphic."
   ]
  },
  {
   "cell_type": "code",
   "execution_count": 13,
   "metadata": {},
   "outputs": [
    {
     "data": {
      "text/plain": [
       "<matplotlib.axes._subplots.AxesSubplot at 0x7f2eb46332b0>"
      ]
     },
     "execution_count": 13,
     "metadata": {},
     "output_type": "execute_result"
    },
    {
     "data": {
      "image/png": "[encoded data removed]",
      "text/plain": [
       "<matplotlib.figure.Figure at 0x7f2eb45bbdd8>"
      ]
     },
     "metadata": {},
     "output_type": "display_data"
    }
   ],
   "source": [
    "sns.countplot('Emotion', data=majority1)"
   ]
  },
  {
   "cell_type": "markdown",
   "metadata": {},
   "source": [
    "## GOLDEN REPORT\n",
    "We load the golden report generated in pybossaReport."
   ]
  },
  {
   "cell_type": "code",
   "execution_count": 14,
   "metadata": {},
   "outputs": [
    {
     "data": {
      "text/html": [
       "<div>\n",
       "<table border=\"1\" class=\"dataframe\">\n",
       "  <thead>\n",
       "    <tr style=\"text-align: right;\">\n",
       "      <th></th>\n",
       "      <th>id_str</th>\n",
       "      <th>Tweet</th>\n",
       "      <th>Cólera</th>\n",
       "      <th>Tristeza</th>\n",
       "      <th>NoEmocion</th>\n",
       "      <th>Felicidad</th>\n",
       "      <th>Sorpresa</th>\n",
       "      <th>Miedo</th>\n",
       "      <th>Asco</th>\n",
       "    </tr>\n",
       "  </thead>\n",
       "  <tbody>\n",
       "    <tr>\n",
       "      <th>0</th>\n",
       "      <td>9,71414330725069E+017</td>\n",
       "      <td>@AS_Manolete Y con el atleti podemos soñar otr...</td>\n",
       "      <td>1.0</td>\n",
       "      <td>0.0</td>\n",
       "      <td>0.0</td>\n",
       "      <td>0.0</td>\n",
       "      <td>0.0</td>\n",
       "      <td>0.0</td>\n",
       "      <td>0.0</td>\n",
       "    </tr>\n",
       "    <tr>\n",
       "      <th>1</th>\n",
       "      <td>9,71414177666478E+017</td>\n",
       "      <td>@eSports_Barca @MNDZPAU1 Md</td>\n",
       "      <td>0.0</td>\n",
       "      <td>0.0</td>\n",
       "      <td>1.0</td>\n",
       "      <td>0.0</td>\n",
       "      <td>0.0</td>\n",
       "      <td>0.0</td>\n",
       "      <td>0.0</td>\n",
       "    </tr>\n",
       "    <tr>\n",
       "      <th>2</th>\n",
       "      <td>9,71414161606501E+017</td>\n",
       "      <td>Ahhhh claro que es del Atleti https://t.co/xm4...</td>\n",
       "      <td>0.0</td>\n",
       "      <td>0.0</td>\n",
       "      <td>1.0</td>\n",
       "      <td>0.0</td>\n",
       "      <td>0.0</td>\n",
       "      <td>0.0</td>\n",
       "      <td>0.0</td>\n",
       "    </tr>\n",
       "    <tr>\n",
       "      <th>3</th>\n",
       "      <td>9,71414116270305E+017</td>\n",
       "      <td>Que venga Arthur me tiene más emocionado que c...</td>\n",
       "      <td>0.0</td>\n",
       "      <td>0.0</td>\n",
       "      <td>0.0</td>\n",
       "      <td>1.0</td>\n",
       "      <td>0.0</td>\n",
       "      <td>0.0</td>\n",
       "      <td>0.0</td>\n",
       "    </tr>\n",
       "    <tr>\n",
       "      <th>4</th>\n",
       "      <td>9,7141400299889E+017</td>\n",
       "      <td>Me ha gustado un vídeo de @YouTube (https://t....</td>\n",
       "      <td>0.0</td>\n",
       "      <td>0.0</td>\n",
       "      <td>0.0</td>\n",
       "      <td>1.0</td>\n",
       "      <td>0.0</td>\n",
       "      <td>0.0</td>\n",
       "      <td>0.0</td>\n",
       "    </tr>\n",
       "  </tbody>\n",
       "</table>\n",
       "</div>"
      ],
      "text/plain": [
       "                  id_str                                              Tweet  \\\n",
       "0  9,71414330725069E+017  @AS_Manolete Y con el atleti podemos soñar otr...   \n",
       "1  9,71414177666478E+017                        @eSports_Barca @MNDZPAU1 Md   \n",
       "2  9,71414161606501E+017  Ahhhh claro que es del Atleti https://t.co/xm4...   \n",
       "3  9,71414116270305E+017  Que venga Arthur me tiene más emocionado que c...   \n",
       "4   9,7141400299889E+017  Me ha gustado un vídeo de @YouTube (https://t....   \n",
       "\n",
       "   Cólera  Tristeza  NoEmocion  Felicidad  Sorpresa  Miedo  Asco  \n",
       "0     1.0       0.0        0.0        0.0       0.0    0.0   0.0  \n",
       "1     0.0       0.0        1.0        0.0       0.0    0.0   0.0  \n",
       "2     0.0       0.0        1.0        0.0       0.0    0.0   0.0  \n",
       "3     0.0       0.0        0.0        1.0       0.0    0.0   0.0  \n",
       "4     0.0       0.0        0.0        1.0       0.0    0.0   0.0  "
      ]
     },
     "execution_count": 14,
     "metadata": {},
     "output_type": "execute_result"
    }
   ],
   "source": [
    "goldenpercent = pd.read_csv('goldenpercent.csv', encoding=\"utf-8\")\n",
    "goldenpercent[:5]"
   ]
  },
  {
   "cell_type": "markdown",
   "metadata": {},
   "source": [
    "We create the column Emotion with the most chosen answer according to the user`s golden confidence."
   ]
  },
  {
   "cell_type": "code",
   "execution_count": 15,
   "metadata": {},
   "outputs": [
    {
     "data": {
      "text/html": [
       "<div>\n",
       "<table border=\"1\" class=\"dataframe\">\n",
       "  <thead>\n",
       "    <tr style=\"text-align: right;\">\n",
       "      <th></th>\n",
       "      <th>id_str</th>\n",
       "      <th>Tweet</th>\n",
       "      <th>Cólera</th>\n",
       "      <th>Tristeza</th>\n",
       "      <th>NoEmocion</th>\n",
       "      <th>Felicidad</th>\n",
       "      <th>Sorpresa</th>\n",
       "      <th>Miedo</th>\n",
       "      <th>Asco</th>\n",
       "      <th>Emotion</th>\n",
       "    </tr>\n",
       "  </thead>\n",
       "  <tbody>\n",
       "    <tr>\n",
       "      <th>0</th>\n",
       "      <td>9,71414330725069E+017</td>\n",
       "      <td>@AS_Manolete Y con el atleti podemos soñar otr...</td>\n",
       "      <td>1.0</td>\n",
       "      <td>0.0</td>\n",
       "      <td>0.0</td>\n",
       "      <td>0.0</td>\n",
       "      <td>0.0</td>\n",
       "      <td>0.0</td>\n",
       "      <td>0.0</td>\n",
       "      <td>Anger</td>\n",
       "    </tr>\n",
       "    <tr>\n",
       "      <th>1</th>\n",
       "      <td>9,71414177666478E+017</td>\n",
       "      <td>@eSports_Barca @MNDZPAU1 Md</td>\n",
       "      <td>0.0</td>\n",
       "      <td>0.0</td>\n",
       "      <td>1.0</td>\n",
       "      <td>0.0</td>\n",
       "      <td>0.0</td>\n",
       "      <td>0.0</td>\n",
       "      <td>0.0</td>\n",
       "      <td>NoEmotion</td>\n",
       "    </tr>\n",
       "    <tr>\n",
       "      <th>2</th>\n",
       "      <td>9,71414161606501E+017</td>\n",
       "      <td>Ahhhh claro que es del Atleti https://t.co/xm4...</td>\n",
       "      <td>0.0</td>\n",
       "      <td>0.0</td>\n",
       "      <td>1.0</td>\n",
       "      <td>0.0</td>\n",
       "      <td>0.0</td>\n",
       "      <td>0.0</td>\n",
       "      <td>0.0</td>\n",
       "      <td>NoEmotion</td>\n",
       "    </tr>\n",
       "    <tr>\n",
       "      <th>3</th>\n",
       "      <td>9,71414116270305E+017</td>\n",
       "      <td>Que venga Arthur me tiene más emocionado que c...</td>\n",
       "      <td>0.0</td>\n",
       "      <td>0.0</td>\n",
       "      <td>0.0</td>\n",
       "      <td>1.0</td>\n",
       "      <td>0.0</td>\n",
       "      <td>0.0</td>\n",
       "      <td>0.0</td>\n",
       "      <td>Happiness</td>\n",
       "    </tr>\n",
       "    <tr>\n",
       "      <th>4</th>\n",
       "      <td>9,7141400299889E+017</td>\n",
       "      <td>Me ha gustado un vídeo de @YouTube (https://t....</td>\n",
       "      <td>0.0</td>\n",
       "      <td>0.0</td>\n",
       "      <td>0.0</td>\n",
       "      <td>1.0</td>\n",
       "      <td>0.0</td>\n",
       "      <td>0.0</td>\n",
       "      <td>0.0</td>\n",
       "      <td>Happiness</td>\n",
       "    </tr>\n",
       "    <tr>\n",
       "      <th>5</th>\n",
       "      <td>9,71413947961299E+017</td>\n",
       "      <td>La 'rajada' de un ex objetivo del Barça sobre ...</td>\n",
       "      <td>1.0</td>\n",
       "      <td>0.0</td>\n",
       "      <td>0.0</td>\n",
       "      <td>0.0</td>\n",
       "      <td>0.0</td>\n",
       "      <td>0.0</td>\n",
       "      <td>0.0</td>\n",
       "      <td>Anger</td>\n",
       "    </tr>\n",
       "    <tr>\n",
       "      <th>6</th>\n",
       "      <td>9,71413939962528E+017</td>\n",
       "      <td>#Deportes ➡️ Hace 17 años, Messi por primera v...</td>\n",
       "      <td>0.0</td>\n",
       "      <td>0.0</td>\n",
       "      <td>0.0</td>\n",
       "      <td>1.0</td>\n",
       "      <td>0.0</td>\n",
       "      <td>0.0</td>\n",
       "      <td>0.0</td>\n",
       "      <td>Happiness</td>\n",
       "    </tr>\n",
       "    <tr>\n",
       "      <th>7</th>\n",
       "      <td>9,71413833544815E+017</td>\n",
       "      <td>@marcmarquez93 @3gerardpique @SergiRoberto10 @...</td>\n",
       "      <td>1.0</td>\n",
       "      <td>0.0</td>\n",
       "      <td>0.0</td>\n",
       "      <td>0.0</td>\n",
       "      <td>0.0</td>\n",
       "      <td>0.0</td>\n",
       "      <td>0.0</td>\n",
       "      <td>Anger</td>\n",
       "    </tr>\n",
       "    <tr>\n",
       "      <th>8</th>\n",
       "      <td>9,7141371484185E+017</td>\n",
       "      <td>Gerard Piqué confirma la primera fuga sonada d...</td>\n",
       "      <td>0.0</td>\n",
       "      <td>0.0</td>\n",
       "      <td>1.0</td>\n",
       "      <td>0.0</td>\n",
       "      <td>0.0</td>\n",
       "      <td>0.0</td>\n",
       "      <td>0.0</td>\n",
       "      <td>NoEmotion</td>\n",
       "    </tr>\n",
       "    <tr>\n",
       "      <th>9</th>\n",
       "      <td>9,71413713415746E+017</td>\n",
       "      <td>Sin embargo el balance de Ligas va ser 3-1 par...</td>\n",
       "      <td>0.5</td>\n",
       "      <td>0.0</td>\n",
       "      <td>0.5</td>\n",
       "      <td>0.0</td>\n",
       "      <td>0.0</td>\n",
       "      <td>0.0</td>\n",
       "      <td>0.0</td>\n",
       "      <td>Disgust</td>\n",
       "    </tr>\n",
       "  </tbody>\n",
       "</table>\n",
       "</div>"
      ],
      "text/plain": [
       "                  id_str                                              Tweet  \\\n",
       "0  9,71414330725069E+017  @AS_Manolete Y con el atleti podemos soñar otr...   \n",
       "1  9,71414177666478E+017                        @eSports_Barca @MNDZPAU1 Md   \n",
       "2  9,71414161606501E+017  Ahhhh claro que es del Atleti https://t.co/xm4...   \n",
       "3  9,71414116270305E+017  Que venga Arthur me tiene más emocionado que c...   \n",
       "4   9,7141400299889E+017  Me ha gustado un vídeo de @YouTube (https://t....   \n",
       "5  9,71413947961299E+017  La 'rajada' de un ex objetivo del Barça sobre ...   \n",
       "6  9,71413939962528E+017  #Deportes ➡️ Hace 17 años, Messi por primera v...   \n",
       "7  9,71413833544815E+017  @marcmarquez93 @3gerardpique @SergiRoberto10 @...   \n",
       "8   9,7141371484185E+017  Gerard Piqué confirma la primera fuga sonada d...   \n",
       "9  9,71413713415746E+017  Sin embargo el balance de Ligas va ser 3-1 par...   \n",
       "\n",
       "   Cólera  Tristeza  NoEmocion  Felicidad  Sorpresa  Miedo  Asco    Emotion  \n",
       "0     1.0       0.0        0.0        0.0       0.0    0.0   0.0      Anger  \n",
       "1     0.0       0.0        1.0        0.0       0.0    0.0   0.0  NoEmotion  \n",
       "2     0.0       0.0        1.0        0.0       0.0    0.0   0.0  NoEmotion  \n",
       "3     0.0       0.0        0.0        1.0       0.0    0.0   0.0  Happiness  \n",
       "4     0.0       0.0        0.0        1.0       0.0    0.0   0.0  Happiness  \n",
       "5     1.0       0.0        0.0        0.0       0.0    0.0   0.0      Anger  \n",
       "6     0.0       0.0        0.0        1.0       0.0    0.0   0.0  Happiness  \n",
       "7     1.0       0.0        0.0        0.0       0.0    0.0   0.0      Anger  \n",
       "8     0.0       0.0        1.0        0.0       0.0    0.0   0.0  NoEmotion  \n",
       "9     0.5       0.0        0.5        0.0       0.0    0.0   0.0    Disgust  "
      ]
     },
     "execution_count": 15,
     "metadata": {},
     "output_type": "execute_result"
    }
   ],
   "source": [
    "goldenpercent['Emotion'] = 0\n",
    "goldenpercent.loc[goldenpercent[\"Emotion\"] == 0, \"Emotion\"] = ((goldenpercent.Cólera > goldenpercent.Tristeza) & (goldenpercent.Cólera > goldenpercent.NoEmocion) & (goldenpercent.Cólera > goldenpercent.Felicidad)& (goldenpercent.Cólera > goldenpercent.Sorpresa)& (goldenpercent.Cólera > goldenpercent.Miedo)& (goldenpercent.Cólera > goldenpercent.Asco)).astype(int)\n",
    "goldenpercent.loc[goldenpercent[\"Emotion\"] == 0, \"Emotion\"] = ((goldenpercent.Tristeza > goldenpercent.Cólera) & (goldenpercent.Tristeza > goldenpercent.NoEmocion)& (goldenpercent.Tristeza > goldenpercent.Felicidad)& (goldenpercent.Tristeza > goldenpercent.Sorpresa)& (goldenpercent.Tristeza > goldenpercent.Miedo)& (goldenpercent.Tristeza > goldenpercent.Asco)).astype(int)+2 \n",
    "goldenpercent.loc[goldenpercent[\"Emotion\"] == 2, \"Emotion\"] = ((goldenpercent.NoEmocion > goldenpercent.Cólera) & (goldenpercent.NoEmocion > goldenpercent.Tristeza)& (goldenpercent.NoEmocion > goldenpercent.Felicidad)& (goldenpercent.NoEmocion > goldenpercent.Sorpresa)& (goldenpercent.NoEmocion > goldenpercent.Miedo)& (goldenpercent.NoEmocion > goldenpercent.Asco)).astype(int)+4 \n",
    "goldenpercent.loc[goldenpercent[\"Emotion\"] == 4, \"Emotion\"] = ((goldenpercent.Felicidad > goldenpercent.Cólera) & (goldenpercent.Felicidad > goldenpercent.Tristeza)& (goldenpercent.Felicidad > goldenpercent.NoEmocion)& (goldenpercent.Felicidad > goldenpercent.Sorpresa)& (goldenpercent.Felicidad > goldenpercent.Miedo)& (goldenpercent.Felicidad > goldenpercent.Asco)).astype(int)+6 \n",
    "goldenpercent.loc[goldenpercent[\"Emotion\"] == 6, \"Emotion\"] = ((goldenpercent.Sorpresa > goldenpercent.Cólera) & (goldenpercent.Sorpresa > goldenpercent.Tristeza)& (goldenpercent.Sorpresa > goldenpercent.NoEmocion)& (goldenpercent.Sorpresa > goldenpercent.Felicidad)& (goldenpercent.Sorpresa > goldenpercent.Miedo)& (goldenpercent.Sorpresa > goldenpercent.Asco)).astype(int)+8 \n",
    "goldenpercent.loc[goldenpercent[\"Emotion\"] == 8, \"Emotion\"] = ((goldenpercent.Miedo > goldenpercent.Cólera) & (goldenpercent.Miedo > goldenpercent.Tristeza)& (goldenpercent.Miedo > goldenpercent.NoEmocion)& (goldenpercent.Miedo > goldenpercent.Felicidad)& (goldenpercent.Miedo > goldenpercent.Sorpresa)& (goldenpercent.Miedo > goldenpercent.Asco)).astype(int)+10 \n",
    "\n",
    "goldenpercent.loc[goldenpercent[\"Emotion\"] == 1, \"Emotion\"] = \"Anger\"\n",
    "goldenpercent.loc[goldenpercent[\"Emotion\"] == 3, \"Emotion\"] = \"Sadness\"\n",
    "goldenpercent.loc[goldenpercent[\"Emotion\"] == 5, \"Emotion\"] = \"NoEmotion\"\n",
    "goldenpercent.loc[goldenpercent[\"Emotion\"] == 7, \"Emotion\"] = \"Happiness\"\n",
    "goldenpercent.loc[goldenpercent[\"Emotion\"] == 9, \"Emotion\"] = \"Surprise\"\n",
    "goldenpercent.loc[goldenpercent[\"Emotion\"] == 10, \"Emotion\"] = \"Disgust\"\n",
    "goldenpercent.loc[goldenpercent[\"Emotion\"] == 11, \"Emotion\"] = \"Fear\"\n",
    "\n",
    "goldenpercent[:10]"
   ]
  },
  {
   "cell_type": "markdown",
   "metadata": {},
   "source": [
    "We create the column FullAgreement to identify in which tweets it has been full agreement in the chosen answer."
   ]
  },
  {
   "cell_type": "code",
   "execution_count": 17,
   "metadata": {},
   "outputs": [
    {
     "data": {
      "text/html": [
       "<div>\n",
       "<table border=\"1\" class=\"dataframe\">\n",
       "  <thead>\n",
       "    <tr style=\"text-align: right;\">\n",
       "      <th></th>\n",
       "      <th>id_str</th>\n",
       "      <th>Tweet</th>\n",
       "      <th>Cólera</th>\n",
       "      <th>Tristeza</th>\n",
       "      <th>NoEmocion</th>\n",
       "      <th>Felicidad</th>\n",
       "      <th>Sorpresa</th>\n",
       "      <th>Miedo</th>\n",
       "      <th>Asco</th>\n",
       "      <th>Emotion</th>\n",
       "      <th>FullAgreement</th>\n",
       "    </tr>\n",
       "  </thead>\n",
       "  <tbody>\n",
       "    <tr>\n",
       "      <th>0</th>\n",
       "      <td>9,71414330725069E+017</td>\n",
       "      <td>@AS_Manolete Y con el atleti podemos soñar otr...</td>\n",
       "      <td>1.0</td>\n",
       "      <td>0.0</td>\n",
       "      <td>0.0</td>\n",
       "      <td>0.0</td>\n",
       "      <td>0.0</td>\n",
       "      <td>0.0</td>\n",
       "      <td>0.0</td>\n",
       "      <td>Anger</td>\n",
       "      <td>1</td>\n",
       "    </tr>\n",
       "    <tr>\n",
       "      <th>1</th>\n",
       "      <td>9,71414177666478E+017</td>\n",
       "      <td>@eSports_Barca @MNDZPAU1 Md</td>\n",
       "      <td>0.0</td>\n",
       "      <td>0.0</td>\n",
       "      <td>1.0</td>\n",
       "      <td>0.0</td>\n",
       "      <td>0.0</td>\n",
       "      <td>0.0</td>\n",
       "      <td>0.0</td>\n",
       "      <td>NoEmotion</td>\n",
       "      <td>1</td>\n",
       "    </tr>\n",
       "    <tr>\n",
       "      <th>2</th>\n",
       "      <td>9,71414161606501E+017</td>\n",
       "      <td>Ahhhh claro que es del Atleti https://t.co/xm4...</td>\n",
       "      <td>0.0</td>\n",
       "      <td>0.0</td>\n",
       "      <td>1.0</td>\n",
       "      <td>0.0</td>\n",
       "      <td>0.0</td>\n",
       "      <td>0.0</td>\n",
       "      <td>0.0</td>\n",
       "      <td>NoEmotion</td>\n",
       "      <td>1</td>\n",
       "    </tr>\n",
       "    <tr>\n",
       "      <th>3</th>\n",
       "      <td>9,71414116270305E+017</td>\n",
       "      <td>Que venga Arthur me tiene más emocionado que c...</td>\n",
       "      <td>0.0</td>\n",
       "      <td>0.0</td>\n",
       "      <td>0.0</td>\n",
       "      <td>1.0</td>\n",
       "      <td>0.0</td>\n",
       "      <td>0.0</td>\n",
       "      <td>0.0</td>\n",
       "      <td>Happiness</td>\n",
       "      <td>1</td>\n",
       "    </tr>\n",
       "    <tr>\n",
       "      <th>4</th>\n",
       "      <td>9,7141400299889E+017</td>\n",
       "      <td>Me ha gustado un vídeo de @YouTube (https://t....</td>\n",
       "      <td>0.0</td>\n",
       "      <td>0.0</td>\n",
       "      <td>0.0</td>\n",
       "      <td>1.0</td>\n",
       "      <td>0.0</td>\n",
       "      <td>0.0</td>\n",
       "      <td>0.0</td>\n",
       "      <td>Happiness</td>\n",
       "      <td>1</td>\n",
       "    </tr>\n",
       "  </tbody>\n",
       "</table>\n",
       "</div>"
      ],
      "text/plain": [
       "                  id_str                                              Tweet  \\\n",
       "0  9,71414330725069E+017  @AS_Manolete Y con el atleti podemos soñar otr...   \n",
       "1  9,71414177666478E+017                        @eSports_Barca @MNDZPAU1 Md   \n",
       "2  9,71414161606501E+017  Ahhhh claro que es del Atleti https://t.co/xm4...   \n",
       "3  9,71414116270305E+017  Que venga Arthur me tiene más emocionado que c...   \n",
       "4   9,7141400299889E+017  Me ha gustado un vídeo de @YouTube (https://t....   \n",
       "\n",
       "   Cólera  Tristeza  NoEmocion  Felicidad  Sorpresa  Miedo  Asco    Emotion  \\\n",
       "0     1.0       0.0        0.0        0.0       0.0    0.0   0.0      Anger   \n",
       "1     0.0       0.0        1.0        0.0       0.0    0.0   0.0  NoEmotion   \n",
       "2     0.0       0.0        1.0        0.0       0.0    0.0   0.0  NoEmotion   \n",
       "3     0.0       0.0        0.0        1.0       0.0    0.0   0.0  Happiness   \n",
       "4     0.0       0.0        0.0        1.0       0.0    0.0   0.0  Happiness   \n",
       "\n",
       "   FullAgreement  \n",
       "0              1  \n",
       "1              1  \n",
       "2              1  \n",
       "3              1  \n",
       "4              1  "
      ]
     },
     "execution_count": 17,
     "metadata": {},
     "output_type": "execute_result"
    }
   ],
   "source": [
    "goldenpercent['FullAgreement']=0\n",
    "goldenpercent.FullAgreement = ((goldenpercent.Tristeza == 1) | (goldenpercent.Cólera == 1) | (goldenpercent.NoEmocion == 1) | (goldenpercent.Asco == 1) | (goldenpercent.Miedo == 1) | (goldenpercent.Sorpresa == 1) | (goldenpercent.Felicidad == 1)).astype(int)\n",
    "goldenpercent[:5]"
   ]
  },
  {
   "cell_type": "markdown",
   "metadata": {},
   "source": [
    "These are the columns we are interested for the sentiment golden report."
   ]
  },
  {
   "cell_type": "code",
   "execution_count": 19,
   "metadata": {},
   "outputs": [
    {
     "data": {
      "text/html": [
       "<div>\n",
       "<table border=\"1\" class=\"dataframe\">\n",
       "  <thead>\n",
       "    <tr style=\"text-align: right;\">\n",
       "      <th></th>\n",
       "      <th>id_str</th>\n",
       "      <th>Tweet</th>\n",
       "      <th>Cólera</th>\n",
       "      <th>Tristeza</th>\n",
       "      <th>NoEmocion</th>\n",
       "      <th>Felicidad</th>\n",
       "      <th>Sorpresa</th>\n",
       "      <th>Miedo</th>\n",
       "      <th>Asco</th>\n",
       "      <th>Emotion</th>\n",
       "      <th>FullAgreement</th>\n",
       "    </tr>\n",
       "  </thead>\n",
       "  <tbody>\n",
       "    <tr>\n",
       "      <th>0</th>\n",
       "      <td>9,71414330725069E+017</td>\n",
       "      <td>@AS_Manolete Y con el atleti podemos soñar otr...</td>\n",
       "      <td>1.0</td>\n",
       "      <td>0.0</td>\n",
       "      <td>0.0</td>\n",
       "      <td>0.0</td>\n",
       "      <td>0.0</td>\n",
       "      <td>0.0</td>\n",
       "      <td>0.0</td>\n",
       "      <td>Anger</td>\n",
       "      <td>1</td>\n",
       "    </tr>\n",
       "    <tr>\n",
       "      <th>1</th>\n",
       "      <td>9,71414177666478E+017</td>\n",
       "      <td>@eSports_Barca @MNDZPAU1 Md</td>\n",
       "      <td>0.0</td>\n",
       "      <td>0.0</td>\n",
       "      <td>1.0</td>\n",
       "      <td>0.0</td>\n",
       "      <td>0.0</td>\n",
       "      <td>0.0</td>\n",
       "      <td>0.0</td>\n",
       "      <td>NoEmotion</td>\n",
       "      <td>1</td>\n",
       "    </tr>\n",
       "    <tr>\n",
       "      <th>2</th>\n",
       "      <td>9,71414161606501E+017</td>\n",
       "      <td>Ahhhh claro que es del Atleti https://t.co/xm4...</td>\n",
       "      <td>0.0</td>\n",
       "      <td>0.0</td>\n",
       "      <td>1.0</td>\n",
       "      <td>0.0</td>\n",
       "      <td>0.0</td>\n",
       "      <td>0.0</td>\n",
       "      <td>0.0</td>\n",
       "      <td>NoEmotion</td>\n",
       "      <td>1</td>\n",
       "    </tr>\n",
       "    <tr>\n",
       "      <th>3</th>\n",
       "      <td>9,71414116270305E+017</td>\n",
       "      <td>Que venga Arthur me tiene más emocionado que c...</td>\n",
       "      <td>0.0</td>\n",
       "      <td>0.0</td>\n",
       "      <td>0.0</td>\n",
       "      <td>1.0</td>\n",
       "      <td>0.0</td>\n",
       "      <td>0.0</td>\n",
       "      <td>0.0</td>\n",
       "      <td>Happiness</td>\n",
       "      <td>1</td>\n",
       "    </tr>\n",
       "    <tr>\n",
       "      <th>4</th>\n",
       "      <td>9,7141400299889E+017</td>\n",
       "      <td>Me ha gustado un vídeo de @YouTube (https://t....</td>\n",
       "      <td>0.0</td>\n",
       "      <td>0.0</td>\n",
       "      <td>0.0</td>\n",
       "      <td>1.0</td>\n",
       "      <td>0.0</td>\n",
       "      <td>0.0</td>\n",
       "      <td>0.0</td>\n",
       "      <td>Happiness</td>\n",
       "      <td>1</td>\n",
       "    </tr>\n",
       "  </tbody>\n",
       "</table>\n",
       "</div>"
      ],
      "text/plain": [
       "                  id_str                                              Tweet  \\\n",
       "0  9,71414330725069E+017  @AS_Manolete Y con el atleti podemos soñar otr...   \n",
       "1  9,71414177666478E+017                        @eSports_Barca @MNDZPAU1 Md   \n",
       "2  9,71414161606501E+017  Ahhhh claro que es del Atleti https://t.co/xm4...   \n",
       "3  9,71414116270305E+017  Que venga Arthur me tiene más emocionado que c...   \n",
       "4   9,7141400299889E+017  Me ha gustado un vídeo de @YouTube (https://t....   \n",
       "\n",
       "   Cólera  Tristeza  NoEmocion  Felicidad  Sorpresa  Miedo  Asco    Emotion  \\\n",
       "0     1.0       0.0        0.0        0.0       0.0    0.0   0.0      Anger   \n",
       "1     0.0       0.0        1.0        0.0       0.0    0.0   0.0  NoEmotion   \n",
       "2     0.0       0.0        1.0        0.0       0.0    0.0   0.0  NoEmotion   \n",
       "3     0.0       0.0        0.0        1.0       0.0    0.0   0.0  Happiness   \n",
       "4     0.0       0.0        0.0        1.0       0.0    0.0   0.0  Happiness   \n",
       "\n",
       "   FullAgreement  \n",
       "0              1  \n",
       "1              1  \n",
       "2              1  \n",
       "3              1  \n",
       "4              1  "
      ]
     },
     "execution_count": 19,
     "metadata": {},
     "output_type": "execute_result"
    }
   ],
   "source": [
    "\n",
    "goldenpercent['FullAgreement']=0\n",
    "goldenpercent.FullAgreement = ((goldenpercent.Tristeza == 1) | (goldenpercent.Cólera == 1) | (goldenpercent.NoEmocion == 1) | (goldenpercent.Asco == 1) | (goldenpercent.Miedo == 1) | (goldenpercent.Sorpresa == 1) | (goldenpercent.Felicidad == 1)).astype(int)\n",
    "goldenpercent[:5]"
   ]
  },
  {
   "cell_type": "markdown",
   "metadata": {},
   "source": [
    "These are the columns we are interested for the emotion golden report."
   ]
  },
  {
   "cell_type": "code",
   "execution_count": 20,
   "metadata": {},
   "outputs": [
    {
     "data": {
      "text/html": [
       "<div>\n",
       "<table border=\"1\" class=\"dataframe\">\n",
       "  <thead>\n",
       "    <tr style=\"text-align: right;\">\n",
       "      <th></th>\n",
       "      <th>Tweet</th>\n",
       "      <th>Felicidad</th>\n",
       "      <th>Tristeza</th>\n",
       "      <th>Cólera</th>\n",
       "      <th>Asco</th>\n",
       "      <th>Miedo</th>\n",
       "      <th>Sorpresa</th>\n",
       "      <th>NoEmocion</th>\n",
       "      <th>Emotion</th>\n",
       "      <th>FullAgreement</th>\n",
       "    </tr>\n",
       "  </thead>\n",
       "  <tbody>\n",
       "    <tr>\n",
       "      <th>0</th>\n",
       "      <td>@AS_Manolete Y con el atleti podemos soñar otr...</td>\n",
       "      <td>0.0</td>\n",
       "      <td>0.0</td>\n",
       "      <td>1.0</td>\n",
       "      <td>0.0</td>\n",
       "      <td>0.0</td>\n",
       "      <td>0.0</td>\n",
       "      <td>0.0</td>\n",
       "      <td>Anger</td>\n",
       "      <td>1</td>\n",
       "    </tr>\n",
       "    <tr>\n",
       "      <th>1</th>\n",
       "      <td>@eSports_Barca @MNDZPAU1 Md</td>\n",
       "      <td>0.0</td>\n",
       "      <td>0.0</td>\n",
       "      <td>0.0</td>\n",
       "      <td>0.0</td>\n",
       "      <td>0.0</td>\n",
       "      <td>0.0</td>\n",
       "      <td>1.0</td>\n",
       "      <td>NoEmotion</td>\n",
       "      <td>1</td>\n",
       "    </tr>\n",
       "    <tr>\n",
       "      <th>2</th>\n",
       "      <td>Ahhhh claro que es del Atleti https://t.co/xm4...</td>\n",
       "      <td>0.0</td>\n",
       "      <td>0.0</td>\n",
       "      <td>0.0</td>\n",
       "      <td>0.0</td>\n",
       "      <td>0.0</td>\n",
       "      <td>0.0</td>\n",
       "      <td>1.0</td>\n",
       "      <td>NoEmotion</td>\n",
       "      <td>1</td>\n",
       "    </tr>\n",
       "    <tr>\n",
       "      <th>3</th>\n",
       "      <td>Que venga Arthur me tiene más emocionado que c...</td>\n",
       "      <td>1.0</td>\n",
       "      <td>0.0</td>\n",
       "      <td>0.0</td>\n",
       "      <td>0.0</td>\n",
       "      <td>0.0</td>\n",
       "      <td>0.0</td>\n",
       "      <td>0.0</td>\n",
       "      <td>Happiness</td>\n",
       "      <td>1</td>\n",
       "    </tr>\n",
       "    <tr>\n",
       "      <th>4</th>\n",
       "      <td>Me ha gustado un vídeo de @YouTube (https://t....</td>\n",
       "      <td>1.0</td>\n",
       "      <td>0.0</td>\n",
       "      <td>0.0</td>\n",
       "      <td>0.0</td>\n",
       "      <td>0.0</td>\n",
       "      <td>0.0</td>\n",
       "      <td>0.0</td>\n",
       "      <td>Happiness</td>\n",
       "      <td>1</td>\n",
       "    </tr>\n",
       "  </tbody>\n",
       "</table>\n",
       "</div>"
      ],
      "text/plain": [
       "                                               Tweet  Felicidad  Tristeza  \\\n",
       "0  @AS_Manolete Y con el atleti podemos soñar otr...        0.0       0.0   \n",
       "1                        @eSports_Barca @MNDZPAU1 Md        0.0       0.0   \n",
       "2  Ahhhh claro que es del Atleti https://t.co/xm4...        0.0       0.0   \n",
       "3  Que venga Arthur me tiene más emocionado que c...        1.0       0.0   \n",
       "4  Me ha gustado un vídeo de @YouTube (https://t....        1.0       0.0   \n",
       "\n",
       "   Cólera  Asco  Miedo  Sorpresa  NoEmocion    Emotion  FullAgreement  \n",
       "0     1.0   0.0    0.0       0.0        0.0      Anger              1  \n",
       "1     0.0   0.0    0.0       0.0        1.0  NoEmotion              1  \n",
       "2     0.0   0.0    0.0       0.0        1.0  NoEmotion              1  \n",
       "3     0.0   0.0    0.0       0.0        0.0  Happiness              1  \n",
       "4     0.0   0.0    0.0       0.0        0.0  Happiness              1  "
      ]
     },
     "execution_count": 20,
     "metadata": {},
     "output_type": "execute_result"
    }
   ],
   "source": [
    "goldenpercent1 = goldenpercent[['Tweet','Felicidad','Tristeza','Cólera','Asco','Miedo','Sorpresa','NoEmocion','Emotion','FullAgreement']]\n",
    "goldenpercent1[:5]"
   ]
  },
  {
   "cell_type": "markdown",
   "metadata": {},
   "source": [
    "The number of tweets where it has been full agreement."
   ]
  },
  {
   "cell_type": "code",
   "execution_count": 21,
   "metadata": {},
   "outputs": [
    {
     "data": {
      "text/plain": [
       "FullAgreement\n",
       "0    291\n",
       "1    510\n",
       "dtype: int64"
      ]
     },
     "execution_count": 21,
     "metadata": {},
     "output_type": "execute_result"
    }
   ],
   "source": [
    "goldenpercent.groupby('FullAgreement').size()"
   ]
  },
  {
   "cell_type": "markdown",
   "metadata": {},
   "source": [
    "Full agreement graphic."
   ]
  },
  {
   "cell_type": "code",
   "execution_count": 22,
   "metadata": {},
   "outputs": [
    {
     "data": {
      "text/plain": [
       "<matplotlib.axes._subplots.AxesSubplot at 0x7f2eaca19400>"
      ]
     },
     "execution_count": 22,
     "metadata": {},
     "output_type": "execute_result"
    },
    {
     "data": {
      "image/png": "[encoded data removed]",
      "text/plain": [
       "<matplotlib.figure.Figure at 0x7f2eac9ece10>"
      ]
     },
     "metadata": {},
     "output_type": "display_data"
    }
   ],
   "source": [
    "sns.countplot('FullAgreement', data=goldenpercent1)"
   ]
  },
  {
   "cell_type": "markdown",
   "metadata": {},
   "source": [
    "The number of chosen answers."
   ]
  },
  {
   "cell_type": "code",
   "execution_count": 23,
   "metadata": {},
   "outputs": [
    {
     "data": {
      "text/plain": [
       "Emotion\n",
       "Anger         48\n",
       "Disgust      324\n",
       "Fear           5\n",
       "Happiness     85\n",
       "NoEmotion    298\n",
       "Sadness       27\n",
       "Surprise      14\n",
       "dtype: int64"
      ]
     },
     "execution_count": 23,
     "metadata": {},
     "output_type": "execute_result"
    }
   ],
   "source": [
    "goldenpercent1.groupby('Emotion').size()"
   ]
  },
  {
   "cell_type": "markdown",
   "metadata": {},
   "source": [
    "Chosen agreement graphic."
   ]
  },
  {
   "cell_type": "code",
   "execution_count": 24,
   "metadata": {},
   "outputs": [
    {
     "data": {
      "text/plain": [
       "<matplotlib.axes._subplots.AxesSubplot at 0x7f2eac99c198>"
      ]
     },
     "execution_count": 24,
     "metadata": {},
     "output_type": "execute_result"
    },
    {
     "data": {
      "image/png": "[encoded data removed]",
      "text/plain": [
       "<matplotlib.figure.Figure at 0x7f2eac98c978>"
      ]
     },
     "metadata": {},
     "output_type": "display_data"
    }
   ],
   "source": [
    "sns.countplot('Emotion', data=goldenpercent1)"
   ]
  },
  {
   "cell_type": "code",
   "execution_count": null,
   "metadata": {},
   "outputs": [],
   "source": []
  }
 ],
 "metadata": {
  "kernelspec": {
   "display_name": "Python 3",
   "language": "python",
   "name": "python3"
  },
  "language_info": {
   "codemirror_mode": {
    "name": "ipython",
    "version": 3
   },
   "file_extension": ".py",
   "mimetype": "text/x-python",
   "name": "python",
   "nbconvert_exporter": "python",
   "pygments_lexer": "ipython3",
   "version": "3.6.3"
  }
 },
 "nbformat": 4,
 "nbformat_minor": 2
}
