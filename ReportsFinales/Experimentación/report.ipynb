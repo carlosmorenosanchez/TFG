{
 "cells": [
  {
   "cell_type": "markdown",
   "metadata": {},
   "source": [
    "# SENTIMENT REPORT"
   ]
  },
  {
   "cell_type": "markdown",
   "metadata": {},
   "source": [
    "We load the files extracted from Pybossa with the annotated data."
   ]
  },
  {
   "cell_type": "code",
   "execution_count": 25,
   "metadata": {},
   "outputs": [],
   "source": [
    "from pybossa import *\n",
    "import pandas as pd\n",
    "\n",
    "filewithids = 'csv/tweets.csv'\n",
    "\n",
    "taskjsonpath= 'footballsentiment_task.json'\n",
    "\n",
    "taskrunjsonpath = 'footballsentiment_task_run.json'\n",
    "\n",
    "numberofcategories = 3\n"
   ]
  },
  {
   "cell_type": "markdown",
   "metadata": {},
   "source": [
    "With these documents we generate the report files executing the function pybossaReport.\n",
    "This function returns the Fleiss` kappa of the experimentation"
   ]
  },
  {
   "cell_type": "code",
   "execution_count": 27,
   "metadata": {},
   "outputs": [
    {
     "name": "stdout",
     "output_type": "stream",
     "text": [
      "-0.5\n"
     ]
    }
   ],
   "source": [
    "# Si no hay golden poner None\n",
    "pybossaReport(filewithids, taskjsonpath, taskrunjsonpath, numberofcategories, None)"
   ]
  },
  {
   "cell_type": "markdown",
   "metadata": {},
   "source": [
    "Here is presented each user with its Majority trust."
   ]
  },
  {
   "cell_type": "code",
   "execution_count": 28,
   "metadata": {},
   "outputs": [
    {
     "data": {
      "text/html": [
       "<div>\n",
       "<table border=\"1\" class=\"dataframe\">\n",
       "  <thead>\n",
       "    <tr style=\"text-align: right;\">\n",
       "      <th></th>\n",
       "      <th>User</th>\n",
       "      <th>Majority trust</th>\n",
       "    </tr>\n",
       "  </thead>\n",
       "  <tbody>\n",
       "    <tr>\n",
       "      <th>572</th>\n",
       "      <td>27</td>\n",
       "      <td>0.047256</td>\n",
       "    </tr>\n",
       "    <tr>\n",
       "      <th>573</th>\n",
       "      <td>27</td>\n",
       "      <td>0.047256</td>\n",
       "    </tr>\n",
       "  </tbody>\n",
       "</table>\n",
       "</div>"
      ],
      "text/plain": [
       "     User  Majority trust\n",
       "572    27        0.047256\n",
       "573    27        0.047256"
      ]
     },
     "execution_count": 28,
     "metadata": {},
     "output_type": "execute_result"
    }
   ],
   "source": [
    "usertweetinfo = pd.read_csv('usertweetinfo.csv', encoding=\"utf-8\")\n",
    "usertweetinfo = usertweetinfo[['User','Majority trust']]\n",
    "usertweetinfo[572:574]"
   ]
  },
  {
   "cell_type": "markdown",
   "metadata": {},
   "source": [
    "## MAJORITY REPORT\n",
    "\n",
    "We load the majority report generated in pybossaReport."
   ]
  },
  {
   "cell_type": "code",
   "execution_count": 29,
   "metadata": {},
   "outputs": [
    {
     "data": {
      "text/html": [
       "<div>\n",
       "<table border=\"1\" class=\"dataframe\">\n",
       "  <thead>\n",
       "    <tr style=\"text-align: right;\">\n",
       "      <th></th>\n",
       "      <th>id_str</th>\n",
       "      <th>Tweet</th>\n",
       "      <th>Negativo</th>\n",
       "      <th>Neutro</th>\n",
       "      <th>Positivo</th>\n",
       "    </tr>\n",
       "  </thead>\n",
       "  <tbody>\n",
       "    <tr>\n",
       "      <th>0</th>\n",
       "      <td>9,71414330725069E+017</td>\n",
       "      <td>@AS_Manolete Y con el atleti podemos soñar otr...</td>\n",
       "      <td>0.066231</td>\n",
       "      <td>0.084888</td>\n",
       "      <td>0.000000</td>\n",
       "    </tr>\n",
       "    <tr>\n",
       "      <th>1</th>\n",
       "      <td>9,71414177666478E+017</td>\n",
       "      <td>@eSports_Barca @MNDZPAU1 Md</td>\n",
       "      <td>0.000000</td>\n",
       "      <td>0.151119</td>\n",
       "      <td>0.000000</td>\n",
       "    </tr>\n",
       "    <tr>\n",
       "      <th>2</th>\n",
       "      <td>9,71414161606501E+017</td>\n",
       "      <td>Ahhhh claro que es del Atleti https://t.co/xm4...</td>\n",
       "      <td>0.084888</td>\n",
       "      <td>0.066231</td>\n",
       "      <td>0.000000</td>\n",
       "    </tr>\n",
       "    <tr>\n",
       "      <th>3</th>\n",
       "      <td>9,71414116270305E+017</td>\n",
       "      <td>Que venga Arthur me tiene más emocionado que c...</td>\n",
       "      <td>0.000000</td>\n",
       "      <td>0.000000</td>\n",
       "      <td>0.151119</td>\n",
       "    </tr>\n",
       "    <tr>\n",
       "      <th>4</th>\n",
       "      <td>9,7141400299889E+017</td>\n",
       "      <td>Me ha gustado un vídeo de @YouTube (https://t....</td>\n",
       "      <td>0.000000</td>\n",
       "      <td>0.000000</td>\n",
       "      <td>0.151119</td>\n",
       "    </tr>\n",
       "  </tbody>\n",
       "</table>\n",
       "</div>"
      ],
      "text/plain": [
       "                  id_str                                              Tweet  \\\n",
       "0  9,71414330725069E+017  @AS_Manolete Y con el atleti podemos soñar otr...   \n",
       "1  9,71414177666478E+017                        @eSports_Barca @MNDZPAU1 Md   \n",
       "2  9,71414161606501E+017  Ahhhh claro que es del Atleti https://t.co/xm4...   \n",
       "3  9,71414116270305E+017  Que venga Arthur me tiene más emocionado que c...   \n",
       "4   9,7141400299889E+017  Me ha gustado un vídeo de @YouTube (https://t....   \n",
       "\n",
       "   Negativo    Neutro  Positivo  \n",
       "0  0.066231  0.084888  0.000000  \n",
       "1  0.000000  0.151119  0.000000  \n",
       "2  0.084888  0.066231  0.000000  \n",
       "3  0.000000  0.000000  0.151119  \n",
       "4  0.000000  0.000000  0.151119  "
      ]
     },
     "execution_count": 29,
     "metadata": {},
     "output_type": "execute_result"
    }
   ],
   "source": [
    "majoritypercent = pd.read_csv('majoritypercent.csv', encoding=\"utf-8\")\n",
    "\n",
    "majoritypercent[:5]"
   ]
  },
  {
   "cell_type": "markdown",
   "metadata": {},
   "source": [
    "We create the column sentiment with the most chosen answer according to the user`s majority confidence."
   ]
  },
  {
   "cell_type": "code",
   "execution_count": 30,
   "metadata": {},
   "outputs": [],
   "source": [
    "majoritypercent['Sentiment'] = 0\n",
    "majoritypercent.loc[majoritypercent[\"Sentiment\"] == 0, \"Sentiment\"] = ((majoritypercent.Positivo > majoritypercent.Negativo) & (majoritypercent.Positivo > majoritypercent.Neutro)).astype(int)\n",
    "majoritypercent.loc[majoritypercent[\"Sentiment\"] == 0, \"Sentiment\"] = ((majoritypercent.Negativo > majoritypercent.Positivo) & (majoritypercent.Negativo > majoritypercent.Neutro)).astype(int)+2 \n",
    "majoritypercent.loc[majoritypercent[\"Sentiment\"] == 1, \"Sentiment\"] = \"Positive\"\n",
    "majoritypercent.loc[majoritypercent[\"Sentiment\"] == 2, \"Sentiment\"] = \"Neutral\"\n",
    "majoritypercent.loc[majoritypercent[\"Sentiment\"] == 3, \"Sentiment\"] = \"Negative\""
   ]
  },
  {
   "cell_type": "markdown",
   "metadata": {},
   "source": [
    "We create the column FullAgreement to identify in which tweets it has been full agreement in the chosen answer."
   ]
  },
  {
   "cell_type": "code",
   "execution_count": 31,
   "metadata": {},
   "outputs": [],
   "source": [
    "majoritypercent['FullAgreement']=0\n",
    "majoritypercent.FullAgreement = (((majoritypercent.Positivo != 0)&(majoritypercent.Neutro != 0)) | ((majoritypercent.Positivo != 0)&(majoritypercent.Negativo != 0)) | ((majoritypercent.Negativo != 0)&(majoritypercent.Neutro != 0))).astype(int)\n",
    "majoritypercent.loc[majoritypercent[\"FullAgreement\"] == 0, \"FullAgreement\"] = \"Yes\"\n",
    "majoritypercent.loc[majoritypercent[\"FullAgreement\"] == 1, \"FullAgreement\"] = \"No\""
   ]
  },
  {
   "cell_type": "markdown",
   "metadata": {},
   "source": [
    "These are the columns we are interested for the experimentation report."
   ]
  },
  {
   "cell_type": "code",
   "execution_count": 37,
   "metadata": {},
   "outputs": [
    {
     "data": {
      "text/html": [
       "<div>\n",
       "<table border=\"1\" class=\"dataframe\">\n",
       "  <thead>\n",
       "    <tr style=\"text-align: right;\">\n",
       "      <th></th>\n",
       "      <th>Tweet</th>\n",
       "      <th>Positivo</th>\n",
       "      <th>Negativo</th>\n",
       "      <th>Neutro</th>\n",
       "      <th>Sentiment</th>\n",
       "      <th>FullAgreement</th>\n",
       "    </tr>\n",
       "  </thead>\n",
       "  <tbody>\n",
       "    <tr>\n",
       "      <th>0</th>\n",
       "      <td>@AS_Manolete Y con el atleti podemos soñar otr...</td>\n",
       "      <td>0.000000</td>\n",
       "      <td>0.066231</td>\n",
       "      <td>0.084888</td>\n",
       "      <td>Neutral</td>\n",
       "      <td>No</td>\n",
       "    </tr>\n",
       "    <tr>\n",
       "      <th>1</th>\n",
       "      <td>@eSports_Barca @MNDZPAU1 Md</td>\n",
       "      <td>0.000000</td>\n",
       "      <td>0.000000</td>\n",
       "      <td>0.151119</td>\n",
       "      <td>Neutral</td>\n",
       "      <td>Yes</td>\n",
       "    </tr>\n",
       "    <tr>\n",
       "      <th>2</th>\n",
       "      <td>Ahhhh claro que es del Atleti https://t.co/xm4...</td>\n",
       "      <td>0.000000</td>\n",
       "      <td>0.084888</td>\n",
       "      <td>0.066231</td>\n",
       "      <td>Negative</td>\n",
       "      <td>No</td>\n",
       "    </tr>\n",
       "    <tr>\n",
       "      <th>3</th>\n",
       "      <td>Que venga Arthur me tiene más emocionado que c...</td>\n",
       "      <td>0.151119</td>\n",
       "      <td>0.000000</td>\n",
       "      <td>0.000000</td>\n",
       "      <td>Positive</td>\n",
       "      <td>Yes</td>\n",
       "    </tr>\n",
       "    <tr>\n",
       "      <th>4</th>\n",
       "      <td>Me ha gustado un vídeo de @YouTube (https://t....</td>\n",
       "      <td>0.151119</td>\n",
       "      <td>0.000000</td>\n",
       "      <td>0.000000</td>\n",
       "      <td>Positive</td>\n",
       "      <td>Yes</td>\n",
       "    </tr>\n",
       "  </tbody>\n",
       "</table>\n",
       "</div>"
      ],
      "text/plain": [
       "                                               Tweet  Positivo  Negativo  \\\n",
       "0  @AS_Manolete Y con el atleti podemos soñar otr...  0.000000  0.066231   \n",
       "1                        @eSports_Barca @MNDZPAU1 Md  0.000000  0.000000   \n",
       "2  Ahhhh claro que es del Atleti https://t.co/xm4...  0.000000  0.084888   \n",
       "3  Que venga Arthur me tiene más emocionado que c...  0.151119  0.000000   \n",
       "4  Me ha gustado un vídeo de @YouTube (https://t....  0.151119  0.000000   \n",
       "\n",
       "     Neutro Sentiment FullAgreement  \n",
       "0  0.084888   Neutral            No  \n",
       "1  0.151119   Neutral           Yes  \n",
       "2  0.066231  Negative            No  \n",
       "3  0.000000  Positive           Yes  \n",
       "4  0.000000  Positive           Yes  "
      ]
     },
     "execution_count": 37,
     "metadata": {},
     "output_type": "execute_result"
    }
   ],
   "source": [
    "majority1 = majoritypercent[['Tweet','Positivo','Negativo','Neutro','Sentiment','FullAgreement']]\n",
    "majority1[:5]"
   ]
  },
  {
   "cell_type": "markdown",
   "metadata": {},
   "source": [
    "The number of tweets where it has been full agreement."
   ]
  },
  {
   "cell_type": "code",
   "execution_count": 38,
   "metadata": {},
   "outputs": [
    {
     "data": {
      "text/plain": [
       "FullAgreement\n",
       "No     316\n",
       "Yes    340\n",
       "dtype: int64"
      ]
     },
     "execution_count": 38,
     "metadata": {},
     "output_type": "execute_result"
    }
   ],
   "source": [
    "import seaborn as sns\n",
    "majority1.groupby('FullAgreement').size()"
   ]
  },
  {
   "cell_type": "markdown",
   "metadata": {},
   "source": [
    "Full agreement graphic."
   ]
  },
  {
   "cell_type": "code",
   "execution_count": 39,
   "metadata": {},
   "outputs": [
    {
     "data": {
      "text/plain": [
       "<matplotlib.axes._subplots.AxesSubplot at 0x7f8c42608e80>"
      ]
     },
     "execution_count": 39,
     "metadata": {},
     "output_type": "execute_result"
    },
    {
     "data": {
      "image/png": "[encoded data removed]",
      "text/plain": [
       "<matplotlib.figure.Figure at 0x7f8c428beda0>"
      ]
     },
     "metadata": {},
     "output_type": "display_data"
    }
   ],
   "source": [
    "sns.countplot('FullAgreement', data=majority1)"
   ]
  },
  {
   "cell_type": "markdown",
   "metadata": {},
   "source": [
    "The number of chosen answers."
   ]
  },
  {
   "cell_type": "code",
   "execution_count": 40,
   "metadata": {},
   "outputs": [
    {
     "data": {
      "text/plain": [
       "Sentiment\n",
       "Negative    248\n",
       "Neutral     274\n",
       "Positive    134\n",
       "dtype: int64"
      ]
     },
     "execution_count": 40,
     "metadata": {},
     "output_type": "execute_result"
    }
   ],
   "source": [
    "majority1.groupby('Sentiment').size()"
   ]
  },
  {
   "cell_type": "markdown",
   "metadata": {},
   "source": [
    "Chosen answers graphic."
   ]
  },
  {
   "cell_type": "code",
   "execution_count": 41,
   "metadata": {},
   "outputs": [
    {
     "data": {
      "text/plain": [
       "<matplotlib.axes._subplots.AxesSubplot at 0x7f8c425a5da0>"
      ]
     },
     "execution_count": 41,
     "metadata": {},
     "output_type": "execute_result"
    },
    {
     "data": {
      "image/png": "[encoded data removed]",
      "text/plain": [
       "<matplotlib.figure.Figure at 0x7f8c428eacf8>"
      ]
     },
     "metadata": {},
     "output_type": "display_data"
    }
   ],
   "source": [
    "sns.countplot('Sentiment', data=majority1)"
   ]
  }
 ],
 "metadata": {
  "kernelspec": {
   "display_name": "Python 3",
   "language": "python",
   "name": "python3"
  },
  "language_info": {
   "codemirror_mode": {
    "name": "ipython",
    "version": 3
   },
   "file_extension": ".py",
   "mimetype": "text/x-python",
   "name": "python",
   "nbconvert_exporter": "python",
   "pygments_lexer": "ipython3",
   "version": "3.6.3"
  }
 },
 "nbformat": 4,
 "nbformat_minor": 2
}
