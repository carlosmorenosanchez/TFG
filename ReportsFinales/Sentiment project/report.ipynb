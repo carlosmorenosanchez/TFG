{
 "cells": [
  {
   "cell_type": "markdown",
   "metadata": {},
   "source": [
    "# SENTIMENT REPORT"
   ]
  },
  {
   "cell_type": "markdown",
   "metadata": {},
   "source": [
    "We load the files extracted from Pybossa with the annotated data."
   ]
  },
  {
   "cell_type": "code",
   "execution_count": 1,
   "metadata": {},
   "outputs": [],
   "source": [
    "from pybossa import *\n",
    "import pandas as pd\n",
    "\n",
    "filewithids = 'csv/tweets.csv'\n",
    "\n",
    "taskjsonpath= 'fts_task.json'\n",
    "\n",
    "taskrunjsonpath = 'fts_task_run.json'\n",
    "\n",
    "numberofcategories = 3\n",
    "\n",
    "goldencsvpath = 'csv/Golden.csv'"
   ]
  },
  {
   "cell_type": "markdown",
   "metadata": {},
   "source": [
    "With these documents we generate the report files executing the function pybossaReport.\n",
    "This function returns the Fleiss` kappa of the sentiment project"
   ]
  },
  {
   "cell_type": "code",
   "execution_count": 2,
   "metadata": {},
   "outputs": [
    {
     "name": "stdout",
     "output_type": "stream",
     "text": [
      "0.602169024942\n"
     ]
    }
   ],
   "source": [
    "# Si no hay golden poner None\n",
    "pybossaReport(filewithids, taskjsonpath, taskrunjsonpath, numberofcategories, goldencsvpath)"
   ]
  },
  {
   "cell_type": "markdown",
   "metadata": {},
   "source": [
    "Here is presented each user with its Golden trust and Majority trust."
   ]
  },
  {
   "cell_type": "code",
   "execution_count": 3,
   "metadata": {},
   "outputs": [
    {
     "data": {
      "text/html": [
       "<div>\n",
       "<table border=\"1\" class=\"dataframe\">\n",
       "  <thead>\n",
       "    <tr style=\"text-align: right;\">\n",
       "      <th></th>\n",
       "      <th>User</th>\n",
       "      <th>Golden trust</th>\n",
       "      <th>Majority trust</th>\n",
       "    </tr>\n",
       "  </thead>\n",
       "  <tbody>\n",
       "    <tr>\n",
       "      <th>572</th>\n",
       "      <td>1</td>\n",
       "      <td>1.000000</td>\n",
       "      <td>0.606742</td>\n",
       "    </tr>\n",
       "    <tr>\n",
       "      <th>573</th>\n",
       "      <td>2</td>\n",
       "      <td>0.888889</td>\n",
       "      <td>0.650437</td>\n",
       "    </tr>\n",
       "  </tbody>\n",
       "</table>\n",
       "</div>"
      ],
      "text/plain": [
       "     User  Golden trust  Majority trust\n",
       "572     1      1.000000        0.606742\n",
       "573     2      0.888889        0.650437"
      ]
     },
     "execution_count": 3,
     "metadata": {},
     "output_type": "execute_result"
    }
   ],
   "source": [
    "usertweetinfo = pd.read_csv('usertweetinfo.csv', encoding=\"utf-8\")\n",
    "usertweetinfo = usertweetinfo[['User','Golden trust','Majority trust']]\n",
    "usertweetinfo[572:574]"
   ]
  },
  {
   "cell_type": "markdown",
   "metadata": {},
   "source": [
    "## MAJORITY REPORT\n",
    "\n",
    "We load the majority report generated in pybossaReport."
   ]
  },
  {
   "cell_type": "code",
   "execution_count": 4,
   "metadata": {},
   "outputs": [
    {
     "data": {
      "text/html": [
       "<div>\n",
       "<table border=\"1\" class=\"dataframe\">\n",
       "  <thead>\n",
       "    <tr style=\"text-align: right;\">\n",
       "      <th></th>\n",
       "      <th>id_str</th>\n",
       "      <th>Tweet</th>\n",
       "      <th>Neutro</th>\n",
       "      <th>Negativo</th>\n",
       "      <th>Positivo</th>\n",
       "    </tr>\n",
       "  </thead>\n",
       "  <tbody>\n",
       "    <tr>\n",
       "      <th>0</th>\n",
       "      <td>9,71414330725069E+017</td>\n",
       "      <td>@AS_Manolete Y con el atleti podemos soñar otr...</td>\n",
       "      <td>0.517378</td>\n",
       "      <td>0.482622</td>\n",
       "      <td>0.0</td>\n",
       "    </tr>\n",
       "    <tr>\n",
       "      <th>1</th>\n",
       "      <td>9,71414177666478E+017</td>\n",
       "      <td>@eSports_Barca @MNDZPAU1 Md</td>\n",
       "      <td>1.000000</td>\n",
       "      <td>0.000000</td>\n",
       "      <td>0.0</td>\n",
       "    </tr>\n",
       "    <tr>\n",
       "      <th>2</th>\n",
       "      <td>9,71414161606501E+017</td>\n",
       "      <td>Ahhhh claro que es del Atleti https://t.co/xm4...</td>\n",
       "      <td>1.000000</td>\n",
       "      <td>0.000000</td>\n",
       "      <td>0.0</td>\n",
       "    </tr>\n",
       "    <tr>\n",
       "      <th>3</th>\n",
       "      <td>9,71414116270305E+017</td>\n",
       "      <td>Que venga Arthur me tiene más emocionado que c...</td>\n",
       "      <td>0.000000</td>\n",
       "      <td>0.000000</td>\n",
       "      <td>1.0</td>\n",
       "    </tr>\n",
       "    <tr>\n",
       "      <th>4</th>\n",
       "      <td>9,7141400299889E+017</td>\n",
       "      <td>Me ha gustado un vídeo de @YouTube (https://t....</td>\n",
       "      <td>0.000000</td>\n",
       "      <td>0.000000</td>\n",
       "      <td>1.0</td>\n",
       "    </tr>\n",
       "  </tbody>\n",
       "</table>\n",
       "</div>"
      ],
      "text/plain": [
       "                  id_str                                              Tweet  \\\n",
       "0  9,71414330725069E+017  @AS_Manolete Y con el atleti podemos soñar otr...   \n",
       "1  9,71414177666478E+017                        @eSports_Barca @MNDZPAU1 Md   \n",
       "2  9,71414161606501E+017  Ahhhh claro que es del Atleti https://t.co/xm4...   \n",
       "3  9,71414116270305E+017  Que venga Arthur me tiene más emocionado que c...   \n",
       "4   9,7141400299889E+017  Me ha gustado un vídeo de @YouTube (https://t....   \n",
       "\n",
       "     Neutro  Negativo  Positivo  \n",
       "0  0.517378  0.482622       0.0  \n",
       "1  1.000000  0.000000       0.0  \n",
       "2  1.000000  0.000000       0.0  \n",
       "3  0.000000  0.000000       1.0  \n",
       "4  0.000000  0.000000       1.0  "
      ]
     },
     "execution_count": 4,
     "metadata": {},
     "output_type": "execute_result"
    }
   ],
   "source": [
    "majoritypercent = pd.read_csv('majoritypercent.csv', encoding=\"utf-8\")\n",
    "\n",
    "majoritypercent[:5]"
   ]
  },
  {
   "cell_type": "markdown",
   "metadata": {},
   "source": [
    "We create the column sentiment with the most chosen answer according to the user`s majority confidence."
   ]
  },
  {
   "cell_type": "code",
   "execution_count": 5,
   "metadata": {},
   "outputs": [],
   "source": [
    "majoritypercent['Sentiment'] = 0\n",
    "majoritypercent.loc[majoritypercent[\"Sentiment\"] == 0, \"Sentiment\"] = ((majoritypercent.Positivo > majoritypercent.Negativo) & (majoritypercent.Positivo > majoritypercent.Neutro)).astype(int)\n",
    "majoritypercent.loc[majoritypercent[\"Sentiment\"] == 0, \"Sentiment\"] = ((majoritypercent.Negativo > majoritypercent.Positivo) & (majoritypercent.Negativo > majoritypercent.Neutro)).astype(int)+2 \n",
    "majoritypercent.loc[majoritypercent[\"Sentiment\"] == 1, \"Sentiment\"] = \"Positive\"\n",
    "majoritypercent.loc[majoritypercent[\"Sentiment\"] == 2, \"Sentiment\"] = \"Neutral\"\n",
    "majoritypercent.loc[majoritypercent[\"Sentiment\"] == 3, \"Sentiment\"] = \"Negative\""
   ]
  },
  {
   "cell_type": "markdown",
   "metadata": {},
   "source": [
    "We create the column FullAgreement to identify in which tweets it has been full agreement in the chosen answer."
   ]
  },
  {
   "cell_type": "code",
   "execution_count": 6,
   "metadata": {},
   "outputs": [],
   "source": [
    "majoritypercent['FullAgreement']=0\n",
    "majoritypercent.FullAgreement = ((majoritypercent.Positivo == 1) | (majoritypercent.Negativo == 1) | (majoritypercent.Neutro == 1)).astype(int)"
   ]
  },
  {
   "cell_type": "markdown",
   "metadata": {},
   "source": [
    "These are the columns we are interested for the sentiment golden report."
   ]
  },
  {
   "cell_type": "code",
   "execution_count": 7,
   "metadata": {},
   "outputs": [
    {
     "data": {
      "text/html": [
       "<div>\n",
       "<table border=\"1\" class=\"dataframe\">\n",
       "  <thead>\n",
       "    <tr style=\"text-align: right;\">\n",
       "      <th></th>\n",
       "      <th>Tweet</th>\n",
       "      <th>Positivo</th>\n",
       "      <th>Negativo</th>\n",
       "      <th>Neutro</th>\n",
       "      <th>Sentiment</th>\n",
       "      <th>FullAgreement</th>\n",
       "    </tr>\n",
       "  </thead>\n",
       "  <tbody>\n",
       "    <tr>\n",
       "      <th>0</th>\n",
       "      <td>@AS_Manolete Y con el atleti podemos soñar otr...</td>\n",
       "      <td>0.0</td>\n",
       "      <td>0.482622</td>\n",
       "      <td>0.517378</td>\n",
       "      <td>Neutral</td>\n",
       "      <td>0</td>\n",
       "    </tr>\n",
       "    <tr>\n",
       "      <th>1</th>\n",
       "      <td>@eSports_Barca @MNDZPAU1 Md</td>\n",
       "      <td>0.0</td>\n",
       "      <td>0.000000</td>\n",
       "      <td>1.000000</td>\n",
       "      <td>Neutral</td>\n",
       "      <td>1</td>\n",
       "    </tr>\n",
       "    <tr>\n",
       "      <th>2</th>\n",
       "      <td>Ahhhh claro que es del Atleti https://t.co/xm4...</td>\n",
       "      <td>0.0</td>\n",
       "      <td>0.000000</td>\n",
       "      <td>1.000000</td>\n",
       "      <td>Neutral</td>\n",
       "      <td>1</td>\n",
       "    </tr>\n",
       "    <tr>\n",
       "      <th>3</th>\n",
       "      <td>Que venga Arthur me tiene más emocionado que c...</td>\n",
       "      <td>1.0</td>\n",
       "      <td>0.000000</td>\n",
       "      <td>0.000000</td>\n",
       "      <td>Positive</td>\n",
       "      <td>1</td>\n",
       "    </tr>\n",
       "    <tr>\n",
       "      <th>4</th>\n",
       "      <td>Me ha gustado un vídeo de @YouTube (https://t....</td>\n",
       "      <td>1.0</td>\n",
       "      <td>0.000000</td>\n",
       "      <td>0.000000</td>\n",
       "      <td>Positive</td>\n",
       "      <td>1</td>\n",
       "    </tr>\n",
       "  </tbody>\n",
       "</table>\n",
       "</div>"
      ],
      "text/plain": [
       "                                               Tweet  Positivo  Negativo  \\\n",
       "0  @AS_Manolete Y con el atleti podemos soñar otr...       0.0  0.482622   \n",
       "1                        @eSports_Barca @MNDZPAU1 Md       0.0  0.000000   \n",
       "2  Ahhhh claro que es del Atleti https://t.co/xm4...       0.0  0.000000   \n",
       "3  Que venga Arthur me tiene más emocionado que c...       1.0  0.000000   \n",
       "4  Me ha gustado un vídeo de @YouTube (https://t....       1.0  0.000000   \n",
       "\n",
       "     Neutro Sentiment  FullAgreement  \n",
       "0  0.517378   Neutral              0  \n",
       "1  1.000000   Neutral              1  \n",
       "2  1.000000   Neutral              1  \n",
       "3  0.000000  Positive              1  \n",
       "4  0.000000  Positive              1  "
      ]
     },
     "execution_count": 7,
     "metadata": {},
     "output_type": "execute_result"
    }
   ],
   "source": [
    "majority1 = majoritypercent[['Tweet','Positivo','Negativo','Neutro','Sentiment','FullAgreement']]\n",
    "majority1[:5]"
   ]
  },
  {
   "cell_type": "markdown",
   "metadata": {},
   "source": [
    "The number of tweets where it has been full agreement."
   ]
  },
  {
   "cell_type": "code",
   "execution_count": 8,
   "metadata": {},
   "outputs": [
    {
     "data": {
      "text/plain": [
       "FullAgreement\n",
       "0    202\n",
       "1    599\n",
       "dtype: int64"
      ]
     },
     "execution_count": 8,
     "metadata": {},
     "output_type": "execute_result"
    }
   ],
   "source": [
    "import seaborn as sns\n",
    "majority1.groupby('FullAgreement').size()"
   ]
  },
  {
   "cell_type": "markdown",
   "metadata": {},
   "source": [
    "Full agreement graphic."
   ]
  },
  {
   "cell_type": "code",
   "execution_count": 9,
   "metadata": {},
   "outputs": [
    {
     "data": {
      "text/plain": [
       "<matplotlib.axes._subplots.AxesSubplot at 0x7f3f44361470>"
      ]
     },
     "execution_count": 9,
     "metadata": {},
     "output_type": "execute_result"
    },
    {
     "data": {
      "image/png": "[encoded data removed]",
      "text/plain": [
       "<matplotlib.figure.Figure at 0x7f3f44824b70>"
      ]
     },
     "metadata": {},
     "output_type": "display_data"
    }
   ],
   "source": [
    "sns.countplot('FullAgreement', data=majority1)"
   ]
  },
  {
   "cell_type": "markdown",
   "metadata": {},
   "source": [
    "The number of chosen answers."
   ]
  },
  {
   "cell_type": "code",
   "execution_count": 10,
   "metadata": {},
   "outputs": [
    {
     "data": {
      "text/plain": [
       "Sentiment\n",
       "Negative    225\n",
       "Neutral     369\n",
       "Positive    207\n",
       "dtype: int64"
      ]
     },
     "execution_count": 10,
     "metadata": {},
     "output_type": "execute_result"
    }
   ],
   "source": [
    "majority1.groupby('Sentiment').size()"
   ]
  },
  {
   "cell_type": "markdown",
   "metadata": {},
   "source": [
    "Chosen answers graphic."
   ]
  },
  {
   "cell_type": "code",
   "execution_count": 11,
   "metadata": {},
   "outputs": [
    {
     "data": {
      "text/plain": [
       "<matplotlib.axes._subplots.AxesSubplot at 0x7f3f443192b0>"
      ]
     },
     "execution_count": 11,
     "metadata": {},
     "output_type": "execute_result"
    },
    {
     "data": {
      "image/png": "[encoded data removed]",
      "text/plain": [
       "<matplotlib.figure.Figure at 0x7f3f443726a0>"
      ]
     },
     "metadata": {},
     "output_type": "display_data"
    }
   ],
   "source": [
    "sns.countplot('Sentiment', data=majority1)"
   ]
  },
  {
   "cell_type": "markdown",
   "metadata": {},
   "source": [
    "## GOLDEN REPORT\n",
    "\n",
    "We load the golden report generated in pybossaReport."
   ]
  },
  {
   "cell_type": "code",
   "execution_count": 12,
   "metadata": {},
   "outputs": [
    {
     "data": {
      "text/html": [
       "<div>\n",
       "<table border=\"1\" class=\"dataframe\">\n",
       "  <thead>\n",
       "    <tr style=\"text-align: right;\">\n",
       "      <th></th>\n",
       "      <th>id_str</th>\n",
       "      <th>Tweet</th>\n",
       "      <th>Neutro</th>\n",
       "      <th>Negativo</th>\n",
       "      <th>Positivo</th>\n",
       "    </tr>\n",
       "  </thead>\n",
       "  <tbody>\n",
       "    <tr>\n",
       "      <th>0</th>\n",
       "      <td>9,71414330725069E+017</td>\n",
       "      <td>@AS_Manolete Y con el atleti podemos soñar otr...</td>\n",
       "      <td>0.470588</td>\n",
       "      <td>0.529412</td>\n",
       "      <td>0.0</td>\n",
       "    </tr>\n",
       "    <tr>\n",
       "      <th>1</th>\n",
       "      <td>9,71414177666478E+017</td>\n",
       "      <td>@eSports_Barca @MNDZPAU1 Md</td>\n",
       "      <td>1.000000</td>\n",
       "      <td>0.000000</td>\n",
       "      <td>0.0</td>\n",
       "    </tr>\n",
       "    <tr>\n",
       "      <th>2</th>\n",
       "      <td>9,71414161606501E+017</td>\n",
       "      <td>Ahhhh claro que es del Atleti https://t.co/xm4...</td>\n",
       "      <td>1.000000</td>\n",
       "      <td>0.000000</td>\n",
       "      <td>0.0</td>\n",
       "    </tr>\n",
       "    <tr>\n",
       "      <th>3</th>\n",
       "      <td>9,71414116270305E+017</td>\n",
       "      <td>Que venga Arthur me tiene más emocionado que c...</td>\n",
       "      <td>0.000000</td>\n",
       "      <td>0.000000</td>\n",
       "      <td>1.0</td>\n",
       "    </tr>\n",
       "    <tr>\n",
       "      <th>4</th>\n",
       "      <td>9,7141400299889E+017</td>\n",
       "      <td>Me ha gustado un vídeo de @YouTube (https://t....</td>\n",
       "      <td>0.000000</td>\n",
       "      <td>0.000000</td>\n",
       "      <td>1.0</td>\n",
       "    </tr>\n",
       "  </tbody>\n",
       "</table>\n",
       "</div>"
      ],
      "text/plain": [
       "                  id_str                                              Tweet  \\\n",
       "0  9,71414330725069E+017  @AS_Manolete Y con el atleti podemos soñar otr...   \n",
       "1  9,71414177666478E+017                        @eSports_Barca @MNDZPAU1 Md   \n",
       "2  9,71414161606501E+017  Ahhhh claro que es del Atleti https://t.co/xm4...   \n",
       "3  9,71414116270305E+017  Que venga Arthur me tiene más emocionado que c...   \n",
       "4   9,7141400299889E+017  Me ha gustado un vídeo de @YouTube (https://t....   \n",
       "\n",
       "     Neutro  Negativo  Positivo  \n",
       "0  0.470588  0.529412       0.0  \n",
       "1  1.000000  0.000000       0.0  \n",
       "2  1.000000  0.000000       0.0  \n",
       "3  0.000000  0.000000       1.0  \n",
       "4  0.000000  0.000000       1.0  "
      ]
     },
     "execution_count": 12,
     "metadata": {},
     "output_type": "execute_result"
    }
   ],
   "source": [
    "goldenpercentage = pd.read_csv('goldenpercent.csv', encoding=\"utf-8\")\n",
    "goldenpercentage[:5]"
   ]
  },
  {
   "cell_type": "markdown",
   "metadata": {},
   "source": [
    "We create the column sentiment with the most chosen answer according to the user`s golden confidence."
   ]
  },
  {
   "cell_type": "code",
   "execution_count": 13,
   "metadata": {},
   "outputs": [],
   "source": [
    "goldenpercentage['Sentiment'] = 0\n",
    "goldenpercentage.loc[goldenpercentage[\"Sentiment\"] == 0, \"Sentiment\"] = ((goldenpercentage.Positivo > goldenpercentage.Negativo) & (goldenpercentage.Positivo > goldenpercentage.Neutro)).astype(int)\n",
    "goldenpercentage.loc[goldenpercentage[\"Sentiment\"] == 0, \"Sentiment\"] = ((goldenpercentage.Negativo > goldenpercentage.Positivo) & (goldenpercentage.Negativo > goldenpercentage.Neutro)).astype(int)+2 \n",
    "goldenpercentage.loc[goldenpercentage[\"Sentiment\"] == 1, \"Sentiment\"] = \"Positive\"\n",
    "goldenpercentage.loc[goldenpercentage[\"Sentiment\"] == 2, \"Sentiment\"] = \"Neutral\"\n",
    "goldenpercentage.loc[goldenpercentage[\"Sentiment\"] == 3, \"Sentiment\"] = \"Negative\""
   ]
  },
  {
   "cell_type": "markdown",
   "metadata": {},
   "source": [
    "We create the column FullAgreement to identify in which tweets it has been full agreement in the chosen answer."
   ]
  },
  {
   "cell_type": "code",
   "execution_count": 14,
   "metadata": {},
   "outputs": [],
   "source": [
    "goldenpercentage['FullAgreement']=0\n",
    "goldenpercentage.FullAgreement = ((goldenpercentage.Positivo == 1) | (goldenpercentage.Negativo == 1) | (goldenpercentage.Neutro == 1)).astype(int)"
   ]
  },
  {
   "cell_type": "markdown",
   "metadata": {},
   "source": [
    "These are the columns we are interested for the sentiment golden report."
   ]
  },
  {
   "cell_type": "code",
   "execution_count": 15,
   "metadata": {},
   "outputs": [
    {
     "data": {
      "text/html": [
       "<div>\n",
       "<table border=\"1\" class=\"dataframe\">\n",
       "  <thead>\n",
       "    <tr style=\"text-align: right;\">\n",
       "      <th></th>\n",
       "      <th>Tweet</th>\n",
       "      <th>Positivo</th>\n",
       "      <th>Negativo</th>\n",
       "      <th>Neutro</th>\n",
       "      <th>Sentiment</th>\n",
       "      <th>FullAgreement</th>\n",
       "    </tr>\n",
       "  </thead>\n",
       "  <tbody>\n",
       "    <tr>\n",
       "      <th>0</th>\n",
       "      <td>@AS_Manolete Y con el atleti podemos soñar otr...</td>\n",
       "      <td>0.0</td>\n",
       "      <td>0.529412</td>\n",
       "      <td>0.470588</td>\n",
       "      <td>Negative</td>\n",
       "      <td>0</td>\n",
       "    </tr>\n",
       "    <tr>\n",
       "      <th>1</th>\n",
       "      <td>@eSports_Barca @MNDZPAU1 Md</td>\n",
       "      <td>0.0</td>\n",
       "      <td>0.000000</td>\n",
       "      <td>1.000000</td>\n",
       "      <td>Neutral</td>\n",
       "      <td>1</td>\n",
       "    </tr>\n",
       "    <tr>\n",
       "      <th>2</th>\n",
       "      <td>Ahhhh claro que es del Atleti https://t.co/xm4...</td>\n",
       "      <td>0.0</td>\n",
       "      <td>0.000000</td>\n",
       "      <td>1.000000</td>\n",
       "      <td>Neutral</td>\n",
       "      <td>1</td>\n",
       "    </tr>\n",
       "    <tr>\n",
       "      <th>3</th>\n",
       "      <td>Que venga Arthur me tiene más emocionado que c...</td>\n",
       "      <td>1.0</td>\n",
       "      <td>0.000000</td>\n",
       "      <td>0.000000</td>\n",
       "      <td>Positive</td>\n",
       "      <td>1</td>\n",
       "    </tr>\n",
       "    <tr>\n",
       "      <th>4</th>\n",
       "      <td>Me ha gustado un vídeo de @YouTube (https://t....</td>\n",
       "      <td>1.0</td>\n",
       "      <td>0.000000</td>\n",
       "      <td>0.000000</td>\n",
       "      <td>Positive</td>\n",
       "      <td>1</td>\n",
       "    </tr>\n",
       "  </tbody>\n",
       "</table>\n",
       "</div>"
      ],
      "text/plain": [
       "                                               Tweet  Positivo  Negativo  \\\n",
       "0  @AS_Manolete Y con el atleti podemos soñar otr...       0.0  0.529412   \n",
       "1                        @eSports_Barca @MNDZPAU1 Md       0.0  0.000000   \n",
       "2  Ahhhh claro que es del Atleti https://t.co/xm4...       0.0  0.000000   \n",
       "3  Que venga Arthur me tiene más emocionado que c...       1.0  0.000000   \n",
       "4  Me ha gustado un vídeo de @YouTube (https://t....       1.0  0.000000   \n",
       "\n",
       "     Neutro Sentiment  FullAgreement  \n",
       "0  0.470588  Negative              0  \n",
       "1  1.000000   Neutral              1  \n",
       "2  1.000000   Neutral              1  \n",
       "3  0.000000  Positive              1  \n",
       "4  0.000000  Positive              1  "
      ]
     },
     "execution_count": 15,
     "metadata": {},
     "output_type": "execute_result"
    }
   ],
   "source": [
    "goldenpercentage1 = goldenpercentage[['Tweet','Positivo','Negativo','Neutro','Sentiment','FullAgreement']]\n",
    "goldenpercentage1[:5]"
   ]
  },
  {
   "cell_type": "markdown",
   "metadata": {},
   "source": [
    "The number of tweets where it has been full agreement."
   ]
  },
  {
   "cell_type": "code",
   "execution_count": 16,
   "metadata": {},
   "outputs": [
    {
     "data": {
      "text/plain": [
       "FullAgreement\n",
       "0    202\n",
       "1    599\n",
       "dtype: int64"
      ]
     },
     "execution_count": 16,
     "metadata": {},
     "output_type": "execute_result"
    }
   ],
   "source": [
    "goldenpercentage1.groupby('FullAgreement').size()"
   ]
  },
  {
   "cell_type": "markdown",
   "metadata": {},
   "source": [
    "Full agreement graphic."
   ]
  },
  {
   "cell_type": "code",
   "execution_count": 17,
   "metadata": {},
   "outputs": [
    {
     "data": {
      "text/plain": [
       "<matplotlib.axes._subplots.AxesSubplot at 0x7f3f3ca47080>"
      ]
     },
     "execution_count": 17,
     "metadata": {},
     "output_type": "execute_result"
    },
    {
     "data": {
      "image/png": "[encoded data removed]",
      "text/plain": [
       "<matplotlib.figure.Figure at 0x7f3f44319160>"
      ]
     },
     "metadata": {},
     "output_type": "display_data"
    }
   ],
   "source": [
    "sns.countplot('FullAgreement', data=goldenpercentage1)"
   ]
  },
  {
   "cell_type": "markdown",
   "metadata": {},
   "source": [
    "The number of chosen answers."
   ]
  },
  {
   "cell_type": "code",
   "execution_count": 18,
   "metadata": {},
   "outputs": [
    {
     "data": {
      "text/plain": [
       "Sentiment\n",
       "Negative    257\n",
       "Neutral     408\n",
       "Positive    136\n",
       "dtype: int64"
      ]
     },
     "execution_count": 18,
     "metadata": {},
     "output_type": "execute_result"
    }
   ],
   "source": [
    "goldenpercentage1.groupby('Sentiment').size()"
   ]
  },
  {
   "cell_type": "markdown",
   "metadata": {},
   "source": [
    "Chosen agreement graphic."
   ]
  },
  {
   "cell_type": "code",
   "execution_count": 19,
   "metadata": {},
   "outputs": [
    {
     "data": {
      "text/plain": [
       "<matplotlib.axes._subplots.AxesSubplot at 0x7f3f3ca28da0>"
      ]
     },
     "execution_count": 19,
     "metadata": {},
     "output_type": "execute_result"
    },
    {
     "data": {
      "image/png": "[encoded data removed]",
      "text/plain": [
       "<matplotlib.figure.Figure at 0x7f3f3c9d56a0>"
      ]
     },
     "metadata": {},
     "output_type": "display_data"
    }
   ],
   "source": [
    "sns.countplot('Sentiment', data=goldenpercentage1)"
   ]
  }
 ],
 "metadata": {
  "kernelspec": {
   "display_name": "Python 3",
   "language": "python",
   "name": "python3"
  },
  "language_info": {
   "codemirror_mode": {
    "name": "ipython",
    "version": 3
   },
   "file_extension": ".py",
   "mimetype": "text/x-python",
   "name": "python",
   "nbconvert_exporter": "python",
   "pygments_lexer": "ipython3",
   "version": "3.6.3"
  }
 },
 "nbformat": 4,
 "nbformat_minor": 2
}
